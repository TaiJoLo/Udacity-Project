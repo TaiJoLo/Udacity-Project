{
 "cells": [
  {
   "cell_type": "markdown",
   "metadata": {},
   "source": [
    "\n",
    "# Project: Investigate TMDB Dataset \n",
    "\n",
    "## Table of Contents\n",
    "<ul>\n",
    "<li><a href=\"#intro\">Introduction</a></li>\n",
    "<li><a href=\"#wrangling\">Data Wrangling</a></li>\n",
    "<li><a href=\"#eda\">Exploratory Data Analysis</a></li>\n",
    "<li><a href=\"#conclusions\">Conclusions</a></li>\n",
    "</ul>"
   ]
  },
  {
   "cell_type": "markdown",
   "metadata": {},
   "source": [
    "<a id='intro'></a> \n",
    "## Introduction"
   ]
  },
  {
   "cell_type": "markdown",
   "metadata": {},
   "source": [
    "For this project, I chose TMDb movie data to investigate, which was cleaned from original data on Kaggle. According to the overview of the data set options, this dataset contains information around 10,000 movies collected from The Movie Database (TMDb), including user ratings and revenue."
   ]
  },
  {
   "cell_type": "markdown",
   "metadata": {},
   "source": [
    "### Questions that can be addressed in the dataset:"
   ]
  },
  {
   "cell_type": "markdown",
   "metadata": {},
   "source": [
    "After getting familiar with this movie dataset, I divided the information into two groups. One group includes metrics that measure the success of these films, such as popularity, revenue, and ratings.\n",
    "The other is basic information about movies, like release year and so on."
   ]
  },
  {
   "cell_type": "markdown",
   "metadata": {},
   "source": [
    "#### Success metrics\n",
    "\n",
    "* vote_average\n",
    "* popularity\n",
    "* revenue\n",
    "\n",
    "\n",
    "#### Basice information\n",
    "\n",
    "* id\t\n",
    "* imdb_id\t\n",
    "* budget\t\n",
    "* original_title\t\n",
    "* cast\t\n",
    "* homepage\t\n",
    "* director\t\n",
    "* tagline\t\n",
    "* keywords               \n",
    "* overview             \n",
    "* runtime               \n",
    "* genres                  \n",
    "* production_companies    \n",
    "* release_date                          \n",
    "* release_year   \n",
    "* vote_count\n",
    "* budget_adj              \n",
    "        \n",
    "\n",
    "\n"
   ]
  },
  {
   "cell_type": "markdown",
   "metadata": {},
   "source": [
    "First, we could  investigate the basic facts of success metrics. Besides, since there are time factors (release year and release date), which means we can find out the trends of success metrics. I personally would like to focus on the changes in different generations. After that, we could explore the relationships between these variables. Hence, these are my questions to be addressed:"
   ]
  },
  {
   "cell_type": "markdown",
   "metadata": {},
   "source": [
    "   \n",
    "## Research A: Basic Facts\n",
    "    \n",
    "* Question 1. Which year has the most movies released?\n",
    "       \n",
    "* Question 2. Which rating is the most common one?\n",
    "      \n",
    "* Question 3. On average, which year's movies have the highest popularity?\n",
    "       \n",
    "* Question 4. On average, which year's movies have the highest revenue?\n",
    "       \n",
    "## Research B: Explore Trends\n",
    "    \n",
    "* Question 1. Which generation has the most movies released?\n",
    "       \n",
    "* Question 2. Which generation‘s movies receive the highest average rating?\n",
    "       \n",
    "* Question 3. Which generation‘s movies receive the highest popularity?\n",
    "       \n",
    "* Question 4. Which generation‘s movies make the highest revenue？\n",
    "       \n",
    "## Research C: Relationships Between Variables\n",
    "    \n",
    "* Question 1. Are high revenue movies also receive high popularity?\n",
    "       \n",
    "* Question 2. Are high rating movies also perform better in revenue?\n",
    "       \n",
    "* Question 3. Do popular movies also have better average ratings?\n",
    "\n",
    "\n",
    "\n",
    "\n"
   ]
  },
  {
   "cell_type": "markdown",
   "metadata": {},
   "source": [
    "<a id='wrangling'></a>\n",
    "## Data Wrangling\n",
    "\n",
    "### General Properties"
   ]
  },
  {
   "cell_type": "markdown",
   "metadata": {},
   "source": [
    "#### First, let's import the necessary packages for analysis. "
   ]
  },
  {
   "cell_type": "code",
   "execution_count": 1,
   "metadata": {},
   "outputs": [],
   "source": [
    "# Import statements for all packages that I plan to use.\n",
    "import pandas as pd\n",
    "import numpy as np\n",
    "from pandas import Series, DataFrame\n",
    "import matplotlib.pyplot as plt\n",
    "import seaborn as sns\n",
    "% matplotlib inline"
   ]
  },
  {
   "cell_type": "markdown",
   "metadata": {},
   "source": [
    "#### Now,let's load our data."
   ]
  },
  {
   "cell_type": "code",
   "execution_count": 2,
   "metadata": {},
   "outputs": [],
   "source": [
    "# Load dataset\n",
    "df = pd.read_csv('tmdb-movies.csv')"
   ]
  },
  {
   "cell_type": "markdown",
   "metadata": {},
   "source": [
    "#### Then, let's take a look at basic information of dataset."
   ]
  },
  {
   "cell_type": "code",
   "execution_count": 3,
   "metadata": {},
   "outputs": [
    {
     "data": {
      "text/html": [
       "<div>\n",
       "<style scoped>\n",
       "    .dataframe tbody tr th:only-of-type {\n",
       "        vertical-align: middle;\n",
       "    }\n",
       "\n",
       "    .dataframe tbody tr th {\n",
       "        vertical-align: top;\n",
       "    }\n",
       "\n",
       "    .dataframe thead th {\n",
       "        text-align: right;\n",
       "    }\n",
       "</style>\n",
       "<table border=\"1\" class=\"dataframe\">\n",
       "  <thead>\n",
       "    <tr style=\"text-align: right;\">\n",
       "      <th></th>\n",
       "      <th>id</th>\n",
       "      <th>imdb_id</th>\n",
       "      <th>popularity</th>\n",
       "      <th>budget</th>\n",
       "      <th>revenue</th>\n",
       "      <th>original_title</th>\n",
       "      <th>cast</th>\n",
       "      <th>homepage</th>\n",
       "      <th>director</th>\n",
       "      <th>tagline</th>\n",
       "      <th>...</th>\n",
       "      <th>overview</th>\n",
       "      <th>runtime</th>\n",
       "      <th>genres</th>\n",
       "      <th>production_companies</th>\n",
       "      <th>release_date</th>\n",
       "      <th>vote_count</th>\n",
       "      <th>vote_average</th>\n",
       "      <th>release_year</th>\n",
       "      <th>budget_adj</th>\n",
       "      <th>revenue_adj</th>\n",
       "    </tr>\n",
       "  </thead>\n",
       "  <tbody>\n",
       "    <tr>\n",
       "      <th>0</th>\n",
       "      <td>135397</td>\n",
       "      <td>tt0369610</td>\n",
       "      <td>32.985763</td>\n",
       "      <td>150000000</td>\n",
       "      <td>1513528810</td>\n",
       "      <td>Jurassic World</td>\n",
       "      <td>Chris Pratt|Bryce Dallas Howard|Irrfan Khan|Vi...</td>\n",
       "      <td>http://www.jurassicworld.com/</td>\n",
       "      <td>Colin Trevorrow</td>\n",
       "      <td>The park is open.</td>\n",
       "      <td>...</td>\n",
       "      <td>Twenty-two years after the events of Jurassic ...</td>\n",
       "      <td>124</td>\n",
       "      <td>Action|Adventure|Science Fiction|Thriller</td>\n",
       "      <td>Universal Studios|Amblin Entertainment|Legenda...</td>\n",
       "      <td>6/9/15</td>\n",
       "      <td>5562</td>\n",
       "      <td>6.5</td>\n",
       "      <td>2015</td>\n",
       "      <td>1.379999e+08</td>\n",
       "      <td>1.392446e+09</td>\n",
       "    </tr>\n",
       "    <tr>\n",
       "      <th>1</th>\n",
       "      <td>76341</td>\n",
       "      <td>tt1392190</td>\n",
       "      <td>28.419936</td>\n",
       "      <td>150000000</td>\n",
       "      <td>378436354</td>\n",
       "      <td>Mad Max: Fury Road</td>\n",
       "      <td>Tom Hardy|Charlize Theron|Hugh Keays-Byrne|Nic...</td>\n",
       "      <td>http://www.madmaxmovie.com/</td>\n",
       "      <td>George Miller</td>\n",
       "      <td>What a Lovely Day.</td>\n",
       "      <td>...</td>\n",
       "      <td>An apocalyptic story set in the furthest reach...</td>\n",
       "      <td>120</td>\n",
       "      <td>Action|Adventure|Science Fiction|Thriller</td>\n",
       "      <td>Village Roadshow Pictures|Kennedy Miller Produ...</td>\n",
       "      <td>5/13/15</td>\n",
       "      <td>6185</td>\n",
       "      <td>7.1</td>\n",
       "      <td>2015</td>\n",
       "      <td>1.379999e+08</td>\n",
       "      <td>3.481613e+08</td>\n",
       "    </tr>\n",
       "  </tbody>\n",
       "</table>\n",
       "<p>2 rows × 21 columns</p>\n",
       "</div>"
      ],
      "text/plain": [
       "       id    imdb_id  popularity     budget     revenue      original_title  \\\n",
       "0  135397  tt0369610   32.985763  150000000  1513528810      Jurassic World   \n",
       "1   76341  tt1392190   28.419936  150000000   378436354  Mad Max: Fury Road   \n",
       "\n",
       "                                                cast  \\\n",
       "0  Chris Pratt|Bryce Dallas Howard|Irrfan Khan|Vi...   \n",
       "1  Tom Hardy|Charlize Theron|Hugh Keays-Byrne|Nic...   \n",
       "\n",
       "                        homepage         director             tagline  \\\n",
       "0  http://www.jurassicworld.com/  Colin Trevorrow   The park is open.   \n",
       "1    http://www.madmaxmovie.com/    George Miller  What a Lovely Day.   \n",
       "\n",
       "       ...                                                overview runtime  \\\n",
       "0      ...       Twenty-two years after the events of Jurassic ...     124   \n",
       "1      ...       An apocalyptic story set in the furthest reach...     120   \n",
       "\n",
       "                                      genres  \\\n",
       "0  Action|Adventure|Science Fiction|Thriller   \n",
       "1  Action|Adventure|Science Fiction|Thriller   \n",
       "\n",
       "                                production_companies release_date vote_count  \\\n",
       "0  Universal Studios|Amblin Entertainment|Legenda...       6/9/15       5562   \n",
       "1  Village Roadshow Pictures|Kennedy Miller Produ...      5/13/15       6185   \n",
       "\n",
       "   vote_average  release_year    budget_adj   revenue_adj  \n",
       "0           6.5          2015  1.379999e+08  1.392446e+09  \n",
       "1           7.1          2015  1.379999e+08  3.481613e+08  \n",
       "\n",
       "[2 rows x 21 columns]"
      ]
     },
     "execution_count": 3,
     "metadata": {},
     "output_type": "execute_result"
    }
   ],
   "source": [
    "# Check data \n",
    "df.head(2)"
   ]
  },
  {
   "cell_type": "markdown",
   "metadata": {},
   "source": [
    "#### Let's check for cleanliness."
   ]
  },
  {
   "cell_type": "code",
   "execution_count": 4,
   "metadata": {},
   "outputs": [
    {
     "name": "stdout",
     "output_type": "stream",
     "text": [
      "<class 'pandas.core.frame.DataFrame'>\n",
      "RangeIndex: 10866 entries, 0 to 10865\n",
      "Data columns (total 21 columns):\n",
      "id                      10866 non-null int64\n",
      "imdb_id                 10856 non-null object\n",
      "popularity              10866 non-null float64\n",
      "budget                  10866 non-null int64\n",
      "revenue                 10866 non-null int64\n",
      "original_title          10866 non-null object\n",
      "cast                    10790 non-null object\n",
      "homepage                2936 non-null object\n",
      "director                10822 non-null object\n",
      "tagline                 8042 non-null object\n",
      "keywords                9373 non-null object\n",
      "overview                10862 non-null object\n",
      "runtime                 10866 non-null int64\n",
      "genres                  10843 non-null object\n",
      "production_companies    9836 non-null object\n",
      "release_date            10866 non-null object\n",
      "vote_count              10866 non-null int64\n",
      "vote_average            10866 non-null float64\n",
      "release_year            10866 non-null int64\n",
      "budget_adj              10866 non-null float64\n",
      "revenue_adj             10866 non-null float64\n",
      "dtypes: float64(4), int64(6), object(11)\n",
      "memory usage: 1.7+ MB\n"
     ]
    }
   ],
   "source": [
    "# Check the data info\n",
    "df.info()"
   ]
  },
  {
   "cell_type": "code",
   "execution_count": 5,
   "metadata": {},
   "outputs": [
    {
     "data": {
      "text/html": [
       "<div>\n",
       "<style scoped>\n",
       "    .dataframe tbody tr th:only-of-type {\n",
       "        vertical-align: middle;\n",
       "    }\n",
       "\n",
       "    .dataframe tbody tr th {\n",
       "        vertical-align: top;\n",
       "    }\n",
       "\n",
       "    .dataframe thead th {\n",
       "        text-align: right;\n",
       "    }\n",
       "</style>\n",
       "<table border=\"1\" class=\"dataframe\">\n",
       "  <thead>\n",
       "    <tr style=\"text-align: right;\">\n",
       "      <th></th>\n",
       "      <th>id</th>\n",
       "      <th>popularity</th>\n",
       "      <th>budget</th>\n",
       "      <th>revenue</th>\n",
       "      <th>runtime</th>\n",
       "      <th>vote_count</th>\n",
       "      <th>vote_average</th>\n",
       "      <th>release_year</th>\n",
       "      <th>budget_adj</th>\n",
       "      <th>revenue_adj</th>\n",
       "    </tr>\n",
       "  </thead>\n",
       "  <tbody>\n",
       "    <tr>\n",
       "      <th>count</th>\n",
       "      <td>10866.000000</td>\n",
       "      <td>10866.000000</td>\n",
       "      <td>1.086600e+04</td>\n",
       "      <td>1.086600e+04</td>\n",
       "      <td>10866.000000</td>\n",
       "      <td>10866.000000</td>\n",
       "      <td>10866.000000</td>\n",
       "      <td>10866.000000</td>\n",
       "      <td>1.086600e+04</td>\n",
       "      <td>1.086600e+04</td>\n",
       "    </tr>\n",
       "    <tr>\n",
       "      <th>mean</th>\n",
       "      <td>66064.177434</td>\n",
       "      <td>0.646441</td>\n",
       "      <td>1.462570e+07</td>\n",
       "      <td>3.982332e+07</td>\n",
       "      <td>102.070863</td>\n",
       "      <td>217.389748</td>\n",
       "      <td>5.974922</td>\n",
       "      <td>2001.322658</td>\n",
       "      <td>1.755104e+07</td>\n",
       "      <td>5.136436e+07</td>\n",
       "    </tr>\n",
       "    <tr>\n",
       "      <th>std</th>\n",
       "      <td>92130.136561</td>\n",
       "      <td>1.000185</td>\n",
       "      <td>3.091321e+07</td>\n",
       "      <td>1.170035e+08</td>\n",
       "      <td>31.381405</td>\n",
       "      <td>575.619058</td>\n",
       "      <td>0.935142</td>\n",
       "      <td>12.812941</td>\n",
       "      <td>3.430616e+07</td>\n",
       "      <td>1.446325e+08</td>\n",
       "    </tr>\n",
       "    <tr>\n",
       "      <th>min</th>\n",
       "      <td>5.000000</td>\n",
       "      <td>0.000065</td>\n",
       "      <td>0.000000e+00</td>\n",
       "      <td>0.000000e+00</td>\n",
       "      <td>0.000000</td>\n",
       "      <td>10.000000</td>\n",
       "      <td>1.500000</td>\n",
       "      <td>1960.000000</td>\n",
       "      <td>0.000000e+00</td>\n",
       "      <td>0.000000e+00</td>\n",
       "    </tr>\n",
       "    <tr>\n",
       "      <th>25%</th>\n",
       "      <td>10596.250000</td>\n",
       "      <td>0.207583</td>\n",
       "      <td>0.000000e+00</td>\n",
       "      <td>0.000000e+00</td>\n",
       "      <td>90.000000</td>\n",
       "      <td>17.000000</td>\n",
       "      <td>5.400000</td>\n",
       "      <td>1995.000000</td>\n",
       "      <td>0.000000e+00</td>\n",
       "      <td>0.000000e+00</td>\n",
       "    </tr>\n",
       "    <tr>\n",
       "      <th>50%</th>\n",
       "      <td>20669.000000</td>\n",
       "      <td>0.383856</td>\n",
       "      <td>0.000000e+00</td>\n",
       "      <td>0.000000e+00</td>\n",
       "      <td>99.000000</td>\n",
       "      <td>38.000000</td>\n",
       "      <td>6.000000</td>\n",
       "      <td>2006.000000</td>\n",
       "      <td>0.000000e+00</td>\n",
       "      <td>0.000000e+00</td>\n",
       "    </tr>\n",
       "    <tr>\n",
       "      <th>75%</th>\n",
       "      <td>75610.000000</td>\n",
       "      <td>0.713817</td>\n",
       "      <td>1.500000e+07</td>\n",
       "      <td>2.400000e+07</td>\n",
       "      <td>111.000000</td>\n",
       "      <td>145.750000</td>\n",
       "      <td>6.600000</td>\n",
       "      <td>2011.000000</td>\n",
       "      <td>2.085325e+07</td>\n",
       "      <td>3.369710e+07</td>\n",
       "    </tr>\n",
       "    <tr>\n",
       "      <th>max</th>\n",
       "      <td>417859.000000</td>\n",
       "      <td>32.985763</td>\n",
       "      <td>4.250000e+08</td>\n",
       "      <td>2.781506e+09</td>\n",
       "      <td>900.000000</td>\n",
       "      <td>9767.000000</td>\n",
       "      <td>9.200000</td>\n",
       "      <td>2015.000000</td>\n",
       "      <td>4.250000e+08</td>\n",
       "      <td>2.827124e+09</td>\n",
       "    </tr>\n",
       "  </tbody>\n",
       "</table>\n",
       "</div>"
      ],
      "text/plain": [
       "                  id    popularity        budget       revenue       runtime  \\\n",
       "count   10866.000000  10866.000000  1.086600e+04  1.086600e+04  10866.000000   \n",
       "mean    66064.177434      0.646441  1.462570e+07  3.982332e+07    102.070863   \n",
       "std     92130.136561      1.000185  3.091321e+07  1.170035e+08     31.381405   \n",
       "min         5.000000      0.000065  0.000000e+00  0.000000e+00      0.000000   \n",
       "25%     10596.250000      0.207583  0.000000e+00  0.000000e+00     90.000000   \n",
       "50%     20669.000000      0.383856  0.000000e+00  0.000000e+00     99.000000   \n",
       "75%     75610.000000      0.713817  1.500000e+07  2.400000e+07    111.000000   \n",
       "max    417859.000000     32.985763  4.250000e+08  2.781506e+09    900.000000   \n",
       "\n",
       "         vote_count  vote_average  release_year    budget_adj   revenue_adj  \n",
       "count  10866.000000  10866.000000  10866.000000  1.086600e+04  1.086600e+04  \n",
       "mean     217.389748      5.974922   2001.322658  1.755104e+07  5.136436e+07  \n",
       "std      575.619058      0.935142     12.812941  3.430616e+07  1.446325e+08  \n",
       "min       10.000000      1.500000   1960.000000  0.000000e+00  0.000000e+00  \n",
       "25%       17.000000      5.400000   1995.000000  0.000000e+00  0.000000e+00  \n",
       "50%       38.000000      6.000000   2006.000000  0.000000e+00  0.000000e+00  \n",
       "75%      145.750000      6.600000   2011.000000  2.085325e+07  3.369710e+07  \n",
       "max     9767.000000      9.200000   2015.000000  4.250000e+08  2.827124e+09  "
      ]
     },
     "execution_count": 5,
     "metadata": {},
     "output_type": "execute_result"
    }
   ],
   "source": [
    "# Check summary of descriptive statistics \n",
    "df.describe()"
   ]
  },
  {
   "cell_type": "markdown",
   "metadata": {},
   "source": [
    "From the information table, there are totally 10866 entries and 21 columns. Also, there are columns have null values. Form the summary, we know that there are plenty of zero values in budget, revenue, budget_adj and revenue_adj columns.\n",
    "Therefore, let's check how many of null value and zero value."
   ]
  },
  {
   "cell_type": "markdown",
   "metadata": {},
   "source": [
    "### Check null value"
   ]
  },
  {
   "cell_type": "code",
   "execution_count": 6,
   "metadata": {},
   "outputs": [
    {
     "data": {
      "text/plain": [
       "id                         0\n",
       "imdb_id                   10\n",
       "popularity                 0\n",
       "budget                     0\n",
       "revenue                    0\n",
       "original_title             0\n",
       "cast                      76\n",
       "homepage                7930\n",
       "director                  44\n",
       "tagline                 2824\n",
       "keywords                1493\n",
       "overview                   4\n",
       "runtime                    0\n",
       "genres                    23\n",
       "production_companies    1030\n",
       "release_date               0\n",
       "vote_count                 0\n",
       "vote_average               0\n",
       "release_year               0\n",
       "budget_adj                 0\n",
       "revenue_adj                0\n",
       "dtype: int64"
      ]
     },
     "execution_count": 6,
     "metadata": {},
     "output_type": "execute_result"
    }
   ],
   "source": [
    "# Check the sum of null value in each column\n",
    "df.isnull().sum()"
   ]
  },
  {
   "cell_type": "markdown",
   "metadata": {},
   "source": [
    "There exists some null value in the cast, director, overview and genres columns. Moreover, some columns are with a lot of null value rows like homepage, tagline, keywords and production_companies, especially the homepage and tagline columns are missing so much data. I believe these columns are not qualified to answer any questions, so I decided to drop both columns. "
   ]
  },
  {
   "cell_type": "markdown",
   "metadata": {},
   "source": [
    "### Check zero value"
   ]
  },
  {
   "cell_type": "markdown",
   "metadata": {},
   "source": [
    "Considering the inflation, I choose budget adj and revenue adj column instead of budget and revenue in the following course of analysis."
   ]
  },
  {
   "cell_type": "code",
   "execution_count": 7,
   "metadata": {},
   "outputs": [
    {
     "data": {
      "text/plain": [
       "budget_adj\n",
       "0.000000    5696\n",
       "0.921091       1\n",
       "Name: id, dtype: int64"
      ]
     },
     "execution_count": 7,
     "metadata": {},
     "output_type": "execute_result"
    }
   ],
   "source": [
    "# Filter the zero values in budget_adj column\n",
    "budget_zero = df.query('budget_adj == 0')\n",
    "\n",
    "# Using groupby to count zero values in budget column \n",
    "budget_zero_count =  df.groupby('budget_adj').count()['id']\n",
    "budget_zero_count.head(2)"
   ]
  },
  {
   "cell_type": "markdown",
   "metadata": {},
   "source": [
    "It contains 5696 rows of zero values in the budget_adj column."
   ]
  },
  {
   "cell_type": "markdown",
   "metadata": {},
   "source": [
    "So does the revenue_adj column"
   ]
  },
  {
   "cell_type": "code",
   "execution_count": 8,
   "metadata": {},
   "outputs": [
    {
     "data": {
      "text/plain": [
       "revenue_adj\n",
       "0.000000    6016\n",
       "2.370705       1\n",
       "Name: id, dtype: int64"
      ]
     },
     "execution_count": 8,
     "metadata": {},
     "output_type": "execute_result"
    }
   ],
   "source": [
    "# Filter the zero values in revenue_adj column\n",
    "revenue_zero = df.query('revenue_adj == 0')\n",
    "\n",
    "# Using groupby to count zero values in revenue_adj column \n",
    "revenue_zero_count =  df.groupby('revenue_adj').count()['id']\n",
    "revenue_zero_count.head(2)"
   ]
  },
  {
   "cell_type": "markdown",
   "metadata": {},
   "source": [
    "It also contains 6015 rows of zero values in the revenue_adj column."
   ]
  },
  {
   "cell_type": "markdown",
   "metadata": {},
   "source": [
    "As zero values in both budget_adj and revenue_adj columns accounted for more than 50% of total data, so I decide to keep these rows and replace zero values with null values."
   ]
  },
  {
   "cell_type": "markdown",
   "metadata": {},
   "source": [
    "### Check duplicates"
   ]
  },
  {
   "cell_type": "code",
   "execution_count": 9,
   "metadata": {},
   "outputs": [
    {
     "data": {
      "text/plain": [
       "1"
      ]
     },
     "execution_count": 9,
     "metadata": {},
     "output_type": "execute_result"
    }
   ],
   "source": [
    "# Find the sum of duplicate rows\n",
    "sum(df.duplicated())"
   ]
  },
  {
   "cell_type": "markdown",
   "metadata": {},
   "source": [
    "After checking the cleanliness of dataset, I decided to drop most columns which contain null values as these columns lacking too much useful information in the analysis process. Except for the columns(revenue_adj, budget_adj) that need to be analyzed to answer my questions. I will replace zero values with null values for both columns. Furthermore, I need to drop duplicate data. Finally, in order to keep dataset easier to read, I need to drop columns that are unnecessary for my analysis, which is imdb_id, budget, revenue, runtime, release_date, vote_count."
   ]
  },
  {
   "cell_type": "markdown",
   "metadata": {},
   "source": [
    "### Cleaning Decision Summary\n",
    "\n",
    "\n",
    "1.Drop columns with missing value: homepage, tagline, keywords, overview, genres, cast, director\n",
    "\n",
    "2.Drop unnecessary columns for answering those questions : imdb_id, budget, revenue, ,runtime, release_date, vote_count\n",
    "\n",
    "3.Drop duplicates.\n",
    "\n",
    "4.Replcae zero values with null values in  revenue_adj and budget_adj columns.\n"
   ]
  },
  {
   "cell_type": "markdown",
   "metadata": {},
   "source": [
    "### Data Cleaning "
   ]
  },
  {
   "cell_type": "markdown",
   "metadata": {},
   "source": [
    "#### First, according to the previous decision, let's drop columns with missing value: homepage, tagline, keywords, overview, genres, cast, director"
   ]
  },
  {
   "cell_type": "code",
   "execution_count": 10,
   "metadata": {},
   "outputs": [],
   "source": [
    "# Drop cloumns that have null values \n",
    "df.drop(['homepage','tagline','keywords','overview','genres','cast','director'],axis=1,inplace=True)"
   ]
  },
  {
   "cell_type": "markdown",
   "metadata": {},
   "source": [
    "#### Second, let's drop unncessary columns: imdb_id, budget, revenue, runtime,production_companies, release_date"
   ]
  },
  {
   "cell_type": "code",
   "execution_count": 11,
   "metadata": {},
   "outputs": [],
   "source": [
    "# Drop unnecessary cloumns\n",
    "df.drop(['imdb_id','budget','revenue','runtime','production_companies','release_date','vote_count'],axis=1,inplace=True)"
   ]
  },
  {
   "cell_type": "code",
   "execution_count": 12,
   "metadata": {},
   "outputs": [
    {
     "data": {
      "text/html": [
       "<div>\n",
       "<style scoped>\n",
       "    .dataframe tbody tr th:only-of-type {\n",
       "        vertical-align: middle;\n",
       "    }\n",
       "\n",
       "    .dataframe tbody tr th {\n",
       "        vertical-align: top;\n",
       "    }\n",
       "\n",
       "    .dataframe thead th {\n",
       "        text-align: right;\n",
       "    }\n",
       "</style>\n",
       "<table border=\"1\" class=\"dataframe\">\n",
       "  <thead>\n",
       "    <tr style=\"text-align: right;\">\n",
       "      <th></th>\n",
       "      <th>id</th>\n",
       "      <th>popularity</th>\n",
       "      <th>original_title</th>\n",
       "      <th>vote_average</th>\n",
       "      <th>release_year</th>\n",
       "      <th>budget_adj</th>\n",
       "      <th>revenue_adj</th>\n",
       "    </tr>\n",
       "  </thead>\n",
       "  <tbody>\n",
       "    <tr>\n",
       "      <th>0</th>\n",
       "      <td>135397</td>\n",
       "      <td>32.985763</td>\n",
       "      <td>Jurassic World</td>\n",
       "      <td>6.5</td>\n",
       "      <td>2015</td>\n",
       "      <td>1.379999e+08</td>\n",
       "      <td>1.392446e+09</td>\n",
       "    </tr>\n",
       "    <tr>\n",
       "      <th>1</th>\n",
       "      <td>76341</td>\n",
       "      <td>28.419936</td>\n",
       "      <td>Mad Max: Fury Road</td>\n",
       "      <td>7.1</td>\n",
       "      <td>2015</td>\n",
       "      <td>1.379999e+08</td>\n",
       "      <td>3.481613e+08</td>\n",
       "    </tr>\n",
       "  </tbody>\n",
       "</table>\n",
       "</div>"
      ],
      "text/plain": [
       "       id  popularity      original_title  vote_average  release_year  \\\n",
       "0  135397   32.985763      Jurassic World           6.5          2015   \n",
       "1   76341   28.419936  Mad Max: Fury Road           7.1          2015   \n",
       "\n",
       "     budget_adj   revenue_adj  \n",
       "0  1.379999e+08  1.392446e+09  \n",
       "1  1.379999e+08  3.481613e+08  "
      ]
     },
     "execution_count": 12,
     "metadata": {},
     "output_type": "execute_result"
    }
   ],
   "source": [
    "# Check the result\n",
    "df.head(2)"
   ]
  },
  {
   "cell_type": "markdown",
   "metadata": {},
   "source": [
    "We can see that all unnecessary column have been successfully dropped."
   ]
  },
  {
   "cell_type": "code",
   "execution_count": 13,
   "metadata": {},
   "outputs": [
    {
     "name": "stdout",
     "output_type": "stream",
     "text": [
      "<class 'pandas.core.frame.DataFrame'>\n",
      "RangeIndex: 10866 entries, 0 to 10865\n",
      "Data columns (total 7 columns):\n",
      "id                10866 non-null int64\n",
      "popularity        10866 non-null float64\n",
      "original_title    10866 non-null object\n",
      "vote_average      10866 non-null float64\n",
      "release_year      10866 non-null int64\n",
      "budget_adj        10866 non-null float64\n",
      "revenue_adj       10866 non-null float64\n",
      "dtypes: float64(4), int64(2), object(1)\n",
      "memory usage: 594.3+ KB\n"
     ]
    }
   ],
   "source": [
    "# Let's check infomation of our new dataset\n",
    "df.info()"
   ]
  },
  {
   "cell_type": "markdown",
   "metadata": {},
   "source": [
    "All columns contain 10866 rows. \n",
    "#### Now let's find out which row is the duplicate row."
   ]
  },
  {
   "cell_type": "code",
   "execution_count": 14,
   "metadata": {},
   "outputs": [
    {
     "data": {
      "text/html": [
       "<div>\n",
       "<style scoped>\n",
       "    .dataframe tbody tr th:only-of-type {\n",
       "        vertical-align: middle;\n",
       "    }\n",
       "\n",
       "    .dataframe tbody tr th {\n",
       "        vertical-align: top;\n",
       "    }\n",
       "\n",
       "    .dataframe thead th {\n",
       "        text-align: right;\n",
       "    }\n",
       "</style>\n",
       "<table border=\"1\" class=\"dataframe\">\n",
       "  <thead>\n",
       "    <tr style=\"text-align: right;\">\n",
       "      <th></th>\n",
       "      <th>id</th>\n",
       "      <th>popularity</th>\n",
       "      <th>original_title</th>\n",
       "      <th>vote_average</th>\n",
       "      <th>release_year</th>\n",
       "      <th>budget_adj</th>\n",
       "      <th>revenue_adj</th>\n",
       "    </tr>\n",
       "  </thead>\n",
       "  <tbody>\n",
       "    <tr>\n",
       "      <th>2090</th>\n",
       "      <td>42194</td>\n",
       "      <td>0.59643</td>\n",
       "      <td>TEKKEN</td>\n",
       "      <td>5.0</td>\n",
       "      <td>2010</td>\n",
       "      <td>30000000.0</td>\n",
       "      <td>967000.0</td>\n",
       "    </tr>\n",
       "  </tbody>\n",
       "</table>\n",
       "</div>"
      ],
      "text/plain": [
       "         id  popularity original_title  vote_average  release_year  \\\n",
       "2090  42194     0.59643         TEKKEN           5.0          2010   \n",
       "\n",
       "      budget_adj  revenue_adj  \n",
       "2090  30000000.0     967000.0  "
      ]
     },
     "execution_count": 14,
     "metadata": {},
     "output_type": "execute_result"
    }
   ],
   "source": [
    "# Figure out the duplicate row number \n",
    "df[df.duplicated()]"
   ]
  },
  {
   "cell_type": "markdown",
   "metadata": {},
   "source": [
    "Row 2090 is duplicated row.Let's check the nearby rows."
   ]
  },
  {
   "cell_type": "code",
   "execution_count": 15,
   "metadata": {},
   "outputs": [
    {
     "data": {
      "text/html": [
       "<div>\n",
       "<style scoped>\n",
       "    .dataframe tbody tr th:only-of-type {\n",
       "        vertical-align: middle;\n",
       "    }\n",
       "\n",
       "    .dataframe tbody tr th {\n",
       "        vertical-align: top;\n",
       "    }\n",
       "\n",
       "    .dataframe thead th {\n",
       "        text-align: right;\n",
       "    }\n",
       "</style>\n",
       "<table border=\"1\" class=\"dataframe\">\n",
       "  <thead>\n",
       "    <tr style=\"text-align: right;\">\n",
       "      <th></th>\n",
       "      <th>id</th>\n",
       "      <th>popularity</th>\n",
       "      <th>original_title</th>\n",
       "      <th>vote_average</th>\n",
       "      <th>release_year</th>\n",
       "      <th>budget_adj</th>\n",
       "      <th>revenue_adj</th>\n",
       "    </tr>\n",
       "  </thead>\n",
       "  <tbody>\n",
       "    <tr>\n",
       "      <th>2088</th>\n",
       "      <td>43931</td>\n",
       "      <td>0.597254</td>\n",
       "      <td>My Soul to Take</td>\n",
       "      <td>5.2</td>\n",
       "      <td>2010</td>\n",
       "      <td>25000000.0</td>\n",
       "      <td>19829957.0</td>\n",
       "    </tr>\n",
       "    <tr>\n",
       "      <th>2089</th>\n",
       "      <td>42194</td>\n",
       "      <td>0.596430</td>\n",
       "      <td>TEKKEN</td>\n",
       "      <td>5.0</td>\n",
       "      <td>2010</td>\n",
       "      <td>30000000.0</td>\n",
       "      <td>967000.0</td>\n",
       "    </tr>\n",
       "    <tr>\n",
       "      <th>2090</th>\n",
       "      <td>42194</td>\n",
       "      <td>0.596430</td>\n",
       "      <td>TEKKEN</td>\n",
       "      <td>5.0</td>\n",
       "      <td>2010</td>\n",
       "      <td>30000000.0</td>\n",
       "      <td>967000.0</td>\n",
       "    </tr>\n",
       "    <tr>\n",
       "      <th>2091</th>\n",
       "      <td>60309</td>\n",
       "      <td>0.591206</td>\n",
       "      <td>The Conspirator</td>\n",
       "      <td>5.9</td>\n",
       "      <td>2010</td>\n",
       "      <td>25000000.0</td>\n",
       "      <td>15478800.0</td>\n",
       "    </tr>\n",
       "  </tbody>\n",
       "</table>\n",
       "</div>"
      ],
      "text/plain": [
       "         id  popularity   original_title  vote_average  release_year  \\\n",
       "2088  43931    0.597254  My Soul to Take           5.2          2010   \n",
       "2089  42194    0.596430           TEKKEN           5.0          2010   \n",
       "2090  42194    0.596430           TEKKEN           5.0          2010   \n",
       "2091  60309    0.591206  The Conspirator           5.9          2010   \n",
       "\n",
       "      budget_adj  revenue_adj  \n",
       "2088  25000000.0   19829957.0  \n",
       "2089  30000000.0     967000.0  \n",
       "2090  30000000.0     967000.0  \n",
       "2091  25000000.0   15478800.0  "
      ]
     },
     "execution_count": 15,
     "metadata": {},
     "output_type": "execute_result"
    }
   ],
   "source": [
    "# Check nerbay rows\n",
    "df.loc[2088:2091]"
   ]
  },
  {
   "cell_type": "markdown",
   "metadata": {},
   "source": [
    "We can see that row 2090 is a duplicate of row 2089. Every detail is the same, now we can drop it safely."
   ]
  },
  {
   "cell_type": "code",
   "execution_count": 16,
   "metadata": {},
   "outputs": [],
   "source": [
    "# Drop duplicates\n",
    "df.drop_duplicates(inplace=True)"
   ]
  },
  {
   "cell_type": "code",
   "execution_count": 17,
   "metadata": {},
   "outputs": [
    {
     "data": {
      "text/html": [
       "<div>\n",
       "<style scoped>\n",
       "    .dataframe tbody tr th:only-of-type {\n",
       "        vertical-align: middle;\n",
       "    }\n",
       "\n",
       "    .dataframe tbody tr th {\n",
       "        vertical-align: top;\n",
       "    }\n",
       "\n",
       "    .dataframe thead th {\n",
       "        text-align: right;\n",
       "    }\n",
       "</style>\n",
       "<table border=\"1\" class=\"dataframe\">\n",
       "  <thead>\n",
       "    <tr style=\"text-align: right;\">\n",
       "      <th></th>\n",
       "      <th>id</th>\n",
       "      <th>popularity</th>\n",
       "      <th>original_title</th>\n",
       "      <th>vote_average</th>\n",
       "      <th>release_year</th>\n",
       "      <th>budget_adj</th>\n",
       "      <th>revenue_adj</th>\n",
       "    </tr>\n",
       "  </thead>\n",
       "  <tbody>\n",
       "    <tr>\n",
       "      <th>2089</th>\n",
       "      <td>42194</td>\n",
       "      <td>0.596430</td>\n",
       "      <td>TEKKEN</td>\n",
       "      <td>5.0</td>\n",
       "      <td>2010</td>\n",
       "      <td>30000000.0</td>\n",
       "      <td>967000.0</td>\n",
       "    </tr>\n",
       "    <tr>\n",
       "      <th>2091</th>\n",
       "      <td>60309</td>\n",
       "      <td>0.591206</td>\n",
       "      <td>The Conspirator</td>\n",
       "      <td>5.9</td>\n",
       "      <td>2010</td>\n",
       "      <td>25000000.0</td>\n",
       "      <td>15478800.0</td>\n",
       "    </tr>\n",
       "  </tbody>\n",
       "</table>\n",
       "</div>"
      ],
      "text/plain": [
       "         id  popularity   original_title  vote_average  release_year  \\\n",
       "2089  42194    0.596430           TEKKEN           5.0          2010   \n",
       "2091  60309    0.591206  The Conspirator           5.9          2010   \n",
       "\n",
       "      budget_adj  revenue_adj  \n",
       "2089  30000000.0     967000.0  \n",
       "2091  25000000.0   15478800.0  "
      ]
     },
     "execution_count": 17,
     "metadata": {},
     "output_type": "execute_result"
    }
   ],
   "source": [
    "# Check the result\n",
    "df.loc[2089:2091]"
   ]
  },
  {
   "cell_type": "markdown",
   "metadata": {},
   "source": [
    "We can see that row 2090 have been successfully dropped. Now let's check our dataset."
   ]
  },
  {
   "cell_type": "code",
   "execution_count": 18,
   "metadata": {},
   "outputs": [
    {
     "name": "stdout",
     "output_type": "stream",
     "text": [
      "<class 'pandas.core.frame.DataFrame'>\n",
      "Int64Index: 10865 entries, 0 to 10865\n",
      "Data columns (total 7 columns):\n",
      "id                10865 non-null int64\n",
      "popularity        10865 non-null float64\n",
      "original_title    10865 non-null object\n",
      "vote_average      10865 non-null float64\n",
      "release_year      10865 non-null int64\n",
      "budget_adj        10865 non-null float64\n",
      "revenue_adj       10865 non-null float64\n",
      "dtypes: float64(4), int64(2), object(1)\n",
      "memory usage: 999.1+ KB\n"
     ]
    }
   ],
   "source": [
    "# Check infomation of our dataset\n",
    "df.info()"
   ]
  },
  {
   "cell_type": "markdown",
   "metadata": {},
   "source": [
    "#### Then, replace zero values with null values in revenue_adj and budget_adj columns."
   ]
  },
  {
   "cell_type": "code",
   "execution_count": 19,
   "metadata": {},
   "outputs": [],
   "source": [
    "# Replace zero values with null values in budget_adj column.\n",
    "df['budget_adj'] = df['budget_adj'].replace(0, np.NaN)"
   ]
  },
  {
   "cell_type": "markdown",
   "metadata": {},
   "source": [
    "So does budget_adj column."
   ]
  },
  {
   "cell_type": "code",
   "execution_count": 20,
   "metadata": {},
   "outputs": [
    {
     "name": "stdout",
     "output_type": "stream",
     "text": [
      "<class 'pandas.core.frame.DataFrame'>\n",
      "Int64Index: 10865 entries, 0 to 10865\n",
      "Data columns (total 7 columns):\n",
      "id                10865 non-null int64\n",
      "popularity        10865 non-null float64\n",
      "original_title    10865 non-null object\n",
      "vote_average      10865 non-null float64\n",
      "release_year      10865 non-null int64\n",
      "budget_adj        5169 non-null float64\n",
      "revenue_adj       4849 non-null float64\n",
      "dtypes: float64(4), int64(2), object(1)\n",
      "memory usage: 999.1+ KB\n"
     ]
    }
   ],
   "source": [
    "# Replace zero values with null values in revenue_adj column.\n",
    "df['revenue_adj'] = df['revenue_adj'].replace(0, np.NaN)\n",
    "# See if nulls are added in budget_adj and revenue_adj columns\n",
    "df.info()"
   ]
  },
  {
   "cell_type": "markdown",
   "metadata": {},
   "source": [
    "#### Finally,let's take a look at dataset summary"
   ]
  },
  {
   "cell_type": "code",
   "execution_count": 21,
   "metadata": {},
   "outputs": [
    {
     "data": {
      "text/html": [
       "<div>\n",
       "<style scoped>\n",
       "    .dataframe tbody tr th:only-of-type {\n",
       "        vertical-align: middle;\n",
       "    }\n",
       "\n",
       "    .dataframe tbody tr th {\n",
       "        vertical-align: top;\n",
       "    }\n",
       "\n",
       "    .dataframe thead th {\n",
       "        text-align: right;\n",
       "    }\n",
       "</style>\n",
       "<table border=\"1\" class=\"dataframe\">\n",
       "  <thead>\n",
       "    <tr style=\"text-align: right;\">\n",
       "      <th></th>\n",
       "      <th>id</th>\n",
       "      <th>popularity</th>\n",
       "      <th>vote_average</th>\n",
       "      <th>release_year</th>\n",
       "      <th>budget_adj</th>\n",
       "      <th>revenue_adj</th>\n",
       "    </tr>\n",
       "  </thead>\n",
       "  <tbody>\n",
       "    <tr>\n",
       "      <th>count</th>\n",
       "      <td>10865.000000</td>\n",
       "      <td>10865.000000</td>\n",
       "      <td>10865.000000</td>\n",
       "      <td>10865.000000</td>\n",
       "      <td>5.169000e+03</td>\n",
       "      <td>4.849000e+03</td>\n",
       "    </tr>\n",
       "    <tr>\n",
       "      <th>mean</th>\n",
       "      <td>66066.374413</td>\n",
       "      <td>0.646446</td>\n",
       "      <td>5.975012</td>\n",
       "      <td>2001.321859</td>\n",
       "      <td>3.688907e+07</td>\n",
       "      <td>1.151009e+08</td>\n",
       "    </tr>\n",
       "    <tr>\n",
       "      <th>std</th>\n",
       "      <td>92134.091971</td>\n",
       "      <td>1.000231</td>\n",
       "      <td>0.935138</td>\n",
       "      <td>12.813260</td>\n",
       "      <td>4.196096e+07</td>\n",
       "      <td>1.988557e+08</td>\n",
       "    </tr>\n",
       "    <tr>\n",
       "      <th>min</th>\n",
       "      <td>5.000000</td>\n",
       "      <td>0.000065</td>\n",
       "      <td>1.500000</td>\n",
       "      <td>1960.000000</td>\n",
       "      <td>9.210911e-01</td>\n",
       "      <td>2.370705e+00</td>\n",
       "    </tr>\n",
       "    <tr>\n",
       "      <th>25%</th>\n",
       "      <td>10596.000000</td>\n",
       "      <td>0.207575</td>\n",
       "      <td>5.400000</td>\n",
       "      <td>1995.000000</td>\n",
       "      <td>8.102293e+06</td>\n",
       "      <td>1.046585e+07</td>\n",
       "    </tr>\n",
       "    <tr>\n",
       "      <th>50%</th>\n",
       "      <td>20662.000000</td>\n",
       "      <td>0.383831</td>\n",
       "      <td>6.000000</td>\n",
       "      <td>2006.000000</td>\n",
       "      <td>2.271505e+07</td>\n",
       "      <td>4.395666e+07</td>\n",
       "    </tr>\n",
       "    <tr>\n",
       "      <th>75%</th>\n",
       "      <td>75612.000000</td>\n",
       "      <td>0.713857</td>\n",
       "      <td>6.600000</td>\n",
       "      <td>2011.000000</td>\n",
       "      <td>5.008384e+07</td>\n",
       "      <td>1.316482e+08</td>\n",
       "    </tr>\n",
       "    <tr>\n",
       "      <th>max</th>\n",
       "      <td>417859.000000</td>\n",
       "      <td>32.985763</td>\n",
       "      <td>9.200000</td>\n",
       "      <td>2015.000000</td>\n",
       "      <td>4.250000e+08</td>\n",
       "      <td>2.827124e+09</td>\n",
       "    </tr>\n",
       "  </tbody>\n",
       "</table>\n",
       "</div>"
      ],
      "text/plain": [
       "                  id    popularity  vote_average  release_year    budget_adj  \\\n",
       "count   10865.000000  10865.000000  10865.000000  10865.000000  5.169000e+03   \n",
       "mean    66066.374413      0.646446      5.975012   2001.321859  3.688907e+07   \n",
       "std     92134.091971      1.000231      0.935138     12.813260  4.196096e+07   \n",
       "min         5.000000      0.000065      1.500000   1960.000000  9.210911e-01   \n",
       "25%     10596.000000      0.207575      5.400000   1995.000000  8.102293e+06   \n",
       "50%     20662.000000      0.383831      6.000000   2006.000000  2.271505e+07   \n",
       "75%     75612.000000      0.713857      6.600000   2011.000000  5.008384e+07   \n",
       "max    417859.000000     32.985763      9.200000   2015.000000  4.250000e+08   \n",
       "\n",
       "        revenue_adj  \n",
       "count  4.849000e+03  \n",
       "mean   1.151009e+08  \n",
       "std    1.988557e+08  \n",
       "min    2.370705e+00  \n",
       "25%    1.046585e+07  \n",
       "50%    4.395666e+07  \n",
       "75%    1.316482e+08  \n",
       "max    2.827124e+09  "
      ]
     },
     "execution_count": 21,
     "metadata": {},
     "output_type": "execute_result"
    }
   ],
   "source": [
    "# Check data summary\n",
    "df.describe()"
   ]
  },
  {
   "cell_type": "markdown",
   "metadata": {},
   "source": [
    "The statistical summary in budget_adj and revenue_adj column are more acceptable for analysis than before."
   ]
  },
  {
   "cell_type": "markdown",
   "metadata": {},
   "source": [
    "### Cleaning Result Summary"
   ]
  },
  {
   "cell_type": "markdown",
   "metadata": {},
   "source": [
    "The trim and clean process have been done. We have dropped unnecessary columns and duplicates row. Besides, zero values have been replaced with null values in revenue_adj and budget_adj column."
   ]
  },
  {
   "cell_type": "markdown",
   "metadata": {},
   "source": [
    "<a id='eda'></a>\n",
    "## Exploratory Data Analysis\n",
    "\n",
    "\n",
    "### <a href=\"#1\">Research A: Basic Facts </a>\n",
    "<ul>\n",
    "    <li><a href=\"#1-1\">Question 1. Which year has the most movies released?</a></li>\n",
    "    <li><a href=\"#1-2\">Question 2. Which rating is the most common one?</a></li>\n",
    "    <li><a href=\"#1-3\">Question 3. On average, which year's movies have the highest popularity?</a></li>\n",
    "    <li><a href=\"#1-4\">Question 4. On average, which year's movies have the highest revenue?</a></li>\n",
    "</ul> \n",
    "\n",
    "### <a href=\"#2\">Research B: Explore Trends </a>\n",
    "       \n",
    "<ul>\n",
    "    <li><a href=\"#2-1\">Question 1. Which generation has the most movies released?</a></li>\n",
    "    <li><a href=\"#2-2\">Question 2. Which generation‘s movies receive the highest average rating?</a></li>\n",
    "    <li><a href=\"#2-3\">Question 3. Which generation‘s movies receive the highest popularity?</a></li>\n",
    "    <li><a href=\"#2-4\">Question 4. Which generation‘s movies make the highest revenue？</a></li>\n",
    "</ul> \n",
    "   \n",
    "### <a href=\"#3\">Research C: Relationships Between Variables</a>\n",
    "\n",
    "<ul>\n",
    "    <li><a href=\"#3-1\">Question 1. Are high revenue movies also receive high popularity?</a></li>\n",
    "    <li><a href=\"#3-2\">Question 2. Are high rating movies also perform better in revenue?</a></li>\n",
    "    <li><a href=\"#3-3\">Question 3. Do popular movies also have better average ratings?</a></li>\n",
    "</ul> "
   ]
  },
  {
   "cell_type": "markdown",
   "metadata": {},
   "source": [
    "<a id='1'></a>\n",
    "# Research A: Basic Facts"
   ]
  },
  {
   "cell_type": "markdown",
   "metadata": {},
   "source": [
    "### Prepare Function : Build a value counts function and its plot function\n",
    "The usage of value_counts and value_counts_plot are as follows, the input argument df_column is the target column that supposed to be count and plot."
   ]
  },
  {
   "cell_type": "code",
   "execution_count": 22,
   "metadata": {},
   "outputs": [],
   "source": [
    "# Count the number of movies in each year\n",
    "def value_counts (df_column):\n",
    "    print df_column.value_counts().head()\n",
    "    \n",
    "# Plot the data of the value_counts function according to the descending way\n",
    "def value_counts_plot(df_column):\n",
    "    df_column.value_counts().plot(kind='bar',figsize=(15,5),alpha=0.8)"
   ]
  },
  {
   "cell_type": "markdown",
   "metadata": {},
   "source": [
    "<a id='1-1'></a>\n",
    "## Question 1. Which year has the most movies released?"
   ]
  },
  {
   "cell_type": "markdown",
   "metadata": {},
   "source": [
    "#### Now let's see what the total number of movies released each year is."
   ]
  },
  {
   "cell_type": "code",
   "execution_count": 23,
   "metadata": {
    "scrolled": true
   },
   "outputs": [
    {
     "name": "stdout",
     "output_type": "stream",
     "text": [
      "2014    700\n",
      "2013    659\n",
      "2015    629\n",
      "2012    588\n",
      "2011    540\n",
      "Name: release_year, dtype: int64\n"
     ]
    }
   ],
   "source": [
    "# Use value_counts function\n",
    "value_counts(df['release_year'])"
   ]
  },
  {
   "cell_type": "markdown",
   "metadata": {},
   "source": [
    "The year 2014 is the year that has the largest number of release movies in our dataset."
   ]
  },
  {
   "cell_type": "markdown",
   "metadata": {},
   "source": [
    "#### Then, we can plot it into bar chart."
   ]
  },
  {
   "cell_type": "code",
   "execution_count": 24,
   "metadata": {},
   "outputs": [
    {
     "data": {
      "image/png": "[encoded data removed]",
      "text/plain": [
       "<Figure size 1080x360 with 1 Axes>"
      ]
     },
     "metadata": {},
     "output_type": "display_data"
    }
   ],
   "source": [
    "# Use value_counts_plot function\n",
    "value_counts_plot(df['release_year'])\n",
    "\n",
    "# Set title and labels\n",
    "plt.title('Number of Movie Released over years (Descending)',fontsize=18)\n",
    "plt.xlabel('Year',fontsize=15)\n",
    "plt.ylabel('Number of Movie Released',fontsize=15);"
   ]
  },
  {
   "cell_type": "markdown",
   "metadata": {},
   "source": [
    "The year 2014 has the largest number of movies released."
   ]
  },
  {
   "cell_type": "markdown",
   "metadata": {},
   "source": [
    "#### Since there is a big gap between the highest and lowest numbers, I will explore trends based on the film's annual release."
   ]
  },
  {
   "cell_type": "code",
   "execution_count": 25,
   "metadata": {},
   "outputs": [
    {
     "data": {
      "text/plain": [
       "release_year\n",
       "1960    32\n",
       "1961    31\n",
       "1962    32\n",
       "1963    34\n",
       "1964    42\n",
       "Name: id, dtype: int64"
      ]
     },
     "execution_count": 25,
     "metadata": {},
     "output_type": "execute_result"
    }
   ],
   "source": [
    "# Count the number according release year\n",
    "release = df.groupby('release_year').count()['id']\n",
    "release.head()"
   ]
  },
  {
   "cell_type": "markdown",
   "metadata": {},
   "source": [
    "#### Plot a line chart to observe"
   ]
  },
  {
   "cell_type": "code",
   "execution_count": 26,
   "metadata": {},
   "outputs": [
    {
     "data": {
      "image/png": "[encoded data removed]",
      "text/plain": [
       "<Figure size 1080x360 with 1 Axes>"
      ]
     },
     "metadata": {},
     "output_type": "display_data"
    }
   ],
   "source": [
    "# Set style\n",
    "sns.set_style('whitegrid')\n",
    "# Set x, y axis\n",
    "# x is movie release year\n",
    "x = release.index\n",
    "# y is the number of released movies\n",
    "y = release\n",
    "# Set size\n",
    "plt.figure(figsize=(15, 5))\n",
    "# Plot line chart \n",
    "plt.plot(x, y, color = 'steelblue')\n",
    "# Set title and labels\n",
    "plt.title('Number of Movie Released over years',fontsize=18)\n",
    "plt.xlabel('Year',fontsize=15)\n",
    "plt.ylabel('Number of Movie Released',fontsize=15);"
   ]
  },
  {
   "cell_type": "markdown",
   "metadata": {},
   "source": [
    "We can see that the number of movies released has been increasing and the growth rate has increased at a rapid speed."
   ]
  },
  {
   "cell_type": "markdown",
   "metadata": {},
   "source": [
    "<a id='1-2'></a>\n",
    "## Question 2. Which rating is the most common one?"
   ]
  },
  {
   "cell_type": "markdown",
   "metadata": {},
   "source": [
    "#### Use the value_counts and value_counts_plot functions that were built before."
   ]
  },
  {
   "cell_type": "code",
   "execution_count": 27,
   "metadata": {},
   "outputs": [
    {
     "name": "stdout",
     "output_type": "stream",
     "text": [
      "6.1    496\n",
      "6.0    495\n",
      "5.8    486\n",
      "5.9    473\n",
      "6.2    464\n",
      "Name: vote_average, dtype: int64\n"
     ]
    }
   ],
   "source": [
    "# use value_counts function\n",
    "value_counts(df['vote_average'])"
   ]
  },
  {
   "cell_type": "markdown",
   "metadata": {},
   "source": [
    "Now we know 6.1 average rating is the most common one. \n",
    "#### Let's plot  a bar chart."
   ]
  },
  {
   "cell_type": "code",
   "execution_count": 28,
   "metadata": {
    "scrolled": true
   },
   "outputs": [
    {
     "data": {
      "image/png": "[encoded data removed]",
      "text/plain": [
       "<Figure size 1080x360 with 1 Axes>"
      ]
     },
     "metadata": {},
     "output_type": "display_data"
    }
   ],
   "source": [
    "# Use value_count_plot function\n",
    "value_counts_plot(df['vote_average'])\n",
    "# Set title and x,y label\n",
    "plt.title('Number of each rating (Descending)',fontsize= 18)\n",
    "plt.xlabel('Score',fontsize= 15)\n",
    "plt.ylabel('Number of score',fontsize= 15);"
   ]
  },
  {
   "cell_type": "markdown",
   "metadata": {},
   "source": [
    "#### Also, I would like to explore the rating distribution in order of rating."
   ]
  },
  {
   "cell_type": "code",
   "execution_count": 29,
   "metadata": {},
   "outputs": [
    {
     "data": {
      "text/plain": [
       "vote_average\n",
       "1.5    2\n",
       "2.0    1\n",
       "2.1    3\n",
       "2.2    3\n",
       "2.3    2\n",
       "Name: id, dtype: int64"
      ]
     },
     "execution_count": 29,
     "metadata": {},
     "output_type": "execute_result"
    }
   ],
   "source": [
    "# Count the number according release year\n",
    "vote = df.groupby('vote_average').count()['id']\n",
    "vote.head()"
   ]
  },
  {
   "cell_type": "markdown",
   "metadata": {},
   "source": [
    "#### Plot a line chart to observe"
   ]
  },
  {
   "cell_type": "code",
   "execution_count": 30,
   "metadata": {},
   "outputs": [
    {
     "data": {
      "image/png": "[encoded data removed]",
      "text/plain": [
       "<Figure size 1080x360 with 1 Axes>"
      ]
     },
     "metadata": {},
     "output_type": "display_data"
    }
   ],
   "source": [
    "# Set style\n",
    "sns.set_style('whitegrid')\n",
    "# Set x, y axis\n",
    "# x is score\n",
    "x = vote.index\n",
    "# y is the total number in each rating\n",
    "y = vote\n",
    "# Set size\n",
    "plt.figure(figsize=(15, 5))\n",
    "# Plot line chart \n",
    "plt.plot(x, y)\n",
    "# Set title and labels\n",
    "plt.title('Number of each rating',fontsize= 18)\n",
    "plt.xlabel('Score',fontsize= 15)\n",
    "plt.ylabel('Number of Score',fontsize= 15);"
   ]
  },
  {
   "cell_type": "markdown",
   "metadata": {},
   "source": [
    "We can see that most movies score between 5-7. The number of high and low score movies is very low."
   ]
  },
  {
   "cell_type": "markdown",
   "metadata": {},
   "source": [
    "<a id='1-3'></a>\n",
    "## Question 3. On average, which year's movies have the highest popularity?"
   ]
  },
  {
   "cell_type": "markdown",
   "metadata": {},
   "source": [
    "#### Now, let's check popularity summary information."
   ]
  },
  {
   "cell_type": "code",
   "execution_count": 31,
   "metadata": {},
   "outputs": [
    {
     "data": {
      "text/plain": [
       "count    10865.000000\n",
       "mean         0.646446\n",
       "std          1.000231\n",
       "min          0.000065\n",
       "25%          0.207575\n",
       "50%          0.383831\n",
       "75%          0.713857\n",
       "max         32.985763\n",
       "Name: popularity, dtype: float64"
      ]
     },
     "execution_count": 31,
     "metadata": {},
     "output_type": "execute_result"
    }
   ],
   "source": [
    "df['popularity'].describe()"
   ]
  },
  {
   "cell_type": "markdown",
   "metadata": {},
   "source": [
    "Since popularity is continuous data, it is difficult to count a certain amount. We should calculate it as the median of each year instead of calculating the total number of each popularity, we can reduce the impact of the released movies total number in different years."
   ]
  },
  {
   "cell_type": "markdown",
   "metadata": {},
   "source": [
    "#### Use groupby  to filter release year and popularity, and then we create a new DataFrame for it."
   ]
  },
  {
   "cell_type": "code",
   "execution_count": 32,
   "metadata": {},
   "outputs": [],
   "source": [
    "# Use groupby to filter release year and median popularity\n",
    "year_p = df.groupby('release_year').median()['popularity'] \n",
    "# Create a new DataFrame to store year_p\n",
    "df_year_p = pd.DataFrame(year_p)"
   ]
  },
  {
   "cell_type": "markdown",
   "metadata": {},
   "source": [
    "#### Then, find out which year has the highest popularity."
   ]
  },
  {
   "cell_type": "code",
   "execution_count": 33,
   "metadata": {},
   "outputs": [
    {
     "data": {
      "text/plain": [
       "release_year\n",
       "1995    0.502955\n",
       "1997    0.465463\n",
       "2002    0.458767\n",
       "2004    0.455263\n",
       "1996    0.454557\n",
       "Name: popularity, dtype: float64"
      ]
     },
     "execution_count": 33,
     "metadata": {},
     "output_type": "execute_result"
    }
   ],
   "source": [
    "# Sort in descending order by using sort_values\n",
    "df_year_p['popularity'].sort_values(ascending=False).head()"
   ]
  },
  {
   "cell_type": "markdown",
   "metadata": {},
   "source": [
    "The year 1995 has the highest popularity."
   ]
  },
  {
   "cell_type": "markdown",
   "metadata": {},
   "source": [
    "#### Now we have the information to answer this question, we can visualize it into a bar chart."
   ]
  },
  {
   "cell_type": "code",
   "execution_count": 34,
   "metadata": {},
   "outputs": [
    {
     "data": {
      "image/png": "[encoded data removed]",
      "text/plain": [
       "<Figure size 1080x360 with 1 Axes>"
      ]
     },
     "metadata": {},
     "output_type": "display_data"
    }
   ],
   "source": [
    "# Plot bar chart\n",
    "df_year_p['popularity'].sort_values(ascending=False).plot(kind='bar',figsize=(15,5))\n",
    "# set title and x,y label\n",
    "plt.title('Median Popularity Over Years (Descending)',fontsize= 18)\n",
    "plt.xlabel('Year',fontsize= 15)\n",
    "plt.ylabel('Median Popularity',fontsize= 15);"
   ]
  },
  {
   "cell_type": "markdown",
   "metadata": {},
   "source": [
    "#### Then, explore data in a line chart in year order."
   ]
  },
  {
   "cell_type": "code",
   "execution_count": 35,
   "metadata": {},
   "outputs": [],
   "source": [
    "# Set the index for the following plot.\n",
    "index_p = df_year_p.index"
   ]
  },
  {
   "cell_type": "code",
   "execution_count": 36,
   "metadata": {
    "scrolled": true
   },
   "outputs": [
    {
     "data": {
      "image/png": "[encoded data removed]",
      "text/plain": [
       "<Figure size 1080x360 with 1 Axes>"
      ]
     },
     "metadata": {},
     "output_type": "display_data"
    }
   ],
   "source": [
    "# Set style\n",
    "sns.set_style('whitegrid')\n",
    "# Set x, y axis\n",
    "x, y = index_p, df_year_p\n",
    "# Set size\n",
    "plt.figure(figsize=(15, 5))\n",
    "# Plot the line chart \n",
    "plt.plot(x, y, color = 'r',alpha= 0.5)\n",
    "# Set title and labels\n",
    "plt.title('Median Popularity Over Years',fontsize= 18)\n",
    "plt.xlabel('Year',fontsize= 15)\n",
    "plt.ylabel('Median Popularity',fontsize= 15);"
   ]
  },
  {
   "cell_type": "markdown",
   "metadata": {},
   "source": [
    "From 1960 to 1995, the median popularity of each year was gradually ascending in strong fluctuations and peaked at over 0.5 in 1995. After that, the number also gradually fell in fluctuations."
   ]
  },
  {
   "cell_type": "markdown",
   "metadata": {},
   "source": [
    "<a id='1-4'></a>\n",
    "## Question 4. On average, which year's movies have the highest revenue?"
   ]
  },
  {
   "cell_type": "markdown",
   "metadata": {},
   "source": [
    "#### The data in the revenue_adj column is also continuous data, so we should handle it as same as the previous method."
   ]
  },
  {
   "cell_type": "markdown",
   "metadata": {},
   "source": [
    "#### After using groupby operation to filter release year and revenue_adj, we create a new DataFrame for it."
   ]
  },
  {
   "cell_type": "code",
   "execution_count": 37,
   "metadata": {},
   "outputs": [],
   "source": [
    "# Using groupby operation to filter release year and revenue_adj\n",
    "year_r = df.groupby('release_year').median()['revenue_adj'] \n",
    "# Create a new DataFrame\n",
    "df_year_r = pd.DataFrame(year_r)"
   ]
  },
  {
   "cell_type": "markdown",
   "metadata": {},
   "source": [
    "#### Then, find out which year has the highest revenue."
   ]
  },
  {
   "cell_type": "code",
   "execution_count": 38,
   "metadata": {},
   "outputs": [
    {
     "data": {
      "text/plain": [
       "release_year\n",
       "1965    7.731786e+08\n",
       "1967    2.844954e+08\n",
       "1969    2.662142e+08\n",
       "1970    1.659541e+08\n",
       "1973    1.574344e+08\n",
       "Name: revenue_adj, dtype: float64"
      ]
     },
     "execution_count": 38,
     "metadata": {},
     "output_type": "execute_result"
    }
   ],
   "source": [
    "# use sort_value to descending sort data\n",
    "df_year_r['revenue_adj'].sort_values(ascending=False).head()"
   ]
  },
  {
   "cell_type": "markdown",
   "metadata": {},
   "source": [
    " Now we know that 1965 is the year with the highest number of median revenue."
   ]
  },
  {
   "cell_type": "markdown",
   "metadata": {},
   "source": [
    "#### Visualize it into a bar chart."
   ]
  },
  {
   "cell_type": "code",
   "execution_count": 39,
   "metadata": {},
   "outputs": [
    {
     "data": {
      "image/png": "[encoded data removed]",
      "text/plain": [
       "<Figure size 1080x360 with 1 Axes>"
      ]
     },
     "metadata": {},
     "output_type": "display_data"
    }
   ],
   "source": [
    "df_year_r['revenue_adj'].sort_values(ascending=False).plot(kind='bar',figsize=(15,5))\n",
    "# set title and x,y label\n",
    "plt.title('Median Revenue Over Years (Descending)',fontsize= 18)\n",
    "plt.xlabel('Year',fontsize= 15)\n",
    "plt.ylabel('Median Revenue',fontsize= 15);"
   ]
  },
  {
   "cell_type": "markdown",
   "metadata": {},
   "source": [
    "It shows that 1965 is the most profitable year and 2013 is the worst in revenue performance, which makes me wonder why this happened as we had discovered before that the total number of released movies did show hugely increasing in these years. In common sense, an industry becomes prosperity like the film industry always with vast profit. \n",
    "\n",
    "#### Now I will plot a bar chart to visualize the difference between the best and worst year in terms of revenue."
   ]
  },
  {
   "cell_type": "code",
   "execution_count": 40,
   "metadata": {},
   "outputs": [],
   "source": [
    "# Select the max value and the release year data\n",
    "df_year_r_max = df_year_r.loc[[1965]]\n",
    "# Select the mix value and the release year data\n",
    "df_year_r_mix = df_year_r.loc[[2013]]"
   ]
  },
  {
   "cell_type": "code",
   "execution_count": 41,
   "metadata": {},
   "outputs": [],
   "source": [
    "# Use pd.concat to glue together Dataframes that just be created in last cell\n",
    "df_year_r_maxmin = pd.concat([df_year_r_max,df_year_r_mix])\n",
    "# Convert to array by using np.ndarray()\n",
    "year_r_maxmin = np.array(df_year_r_maxmin)"
   ]
  },
  {
   "cell_type": "code",
   "execution_count": 42,
   "metadata": {},
   "outputs": [],
   "source": [
    "# Assign max and min value to m,n\n",
    "m = year_r_maxmin.max() \n",
    "n = year_r_maxmin.min() "
   ]
  },
  {
   "cell_type": "code",
   "execution_count": 43,
   "metadata": {},
   "outputs": [
    {
     "data": {
      "image/png": "[encoded data removed]",
      "text/plain": [
       "<Figure size 720x360 with 1 Axes>"
      ]
     },
     "metadata": {},
     "output_type": "display_data"
    }
   ],
   "source": [
    "data = [m,n]\n",
    "labels = ['1965', '2013']\n",
    "# Set size\n",
    "plt.figure(figsize=(10, 5))\n",
    "plt.bar(range(len(data)), data,width=0.5, tick_label=labels)\n",
    "plt.title('The Max and Min Median Revenue Comparison',fontsize= 15)\n",
    "plt.xlabel('Year',fontsize= 15)\n",
    "plt.ylabel('Median Revenue',fontsize= 15)\n",
    "plt.show();"
   ]
  },
  {
   "cell_type": "code",
   "execution_count": 44,
   "metadata": {},
   "outputs": [
    {
     "name": "stdout",
     "output_type": "stream",
     "text": [
      "38.105670777396014\n"
     ]
    }
   ],
   "source": [
    "# Calculate ratio between two numbers \n",
    "print m/n"
   ]
  },
  {
   "cell_type": "markdown",
   "metadata": {},
   "source": [
    "The volume of 1965 is 38 times that of 2013."
   ]
  },
  {
   "cell_type": "markdown",
   "metadata": {},
   "source": [
    "#### Also, we can explore further with the line chart of median revenue data based on year."
   ]
  },
  {
   "cell_type": "code",
   "execution_count": 45,
   "metadata": {},
   "outputs": [
    {
     "data": {
      "image/png": "[encoded data removed]",
      "text/plain": [
       "<Figure size 648x288 with 1 Axes>"
      ]
     },
     "metadata": {},
     "output_type": "display_data"
    }
   ],
   "source": [
    "# Set the index for the following plot\n",
    "index_r = df_year_r.index\n",
    "# Set style\n",
    "sns.set_style('whitegrid')\n",
    "# Set x, y axis\n",
    "x, y = index_r, df_year_r\n",
    "# Set size\n",
    "plt.figure(figsize=(9, 4))\n",
    "# Plot line chart \n",
    "plt.plot(x, y, color = 'g',alpha= 0.5)\n",
    "# Set title and labels\n",
    "plt.title('Median Revenue Over Years',fontsize= 18)\n",
    "plt.xlabel('Year',fontsize= 18)\n",
    "plt.ylabel('Median Revenue',fontsize= 18);"
   ]
  },
  {
   "cell_type": "markdown",
   "metadata": {},
   "source": [
    "From 1960 to 1970, the median revenue of each year had strong fluctuations and peaked at 1965, after that, it experienced continue to decline to above 1. After 1980, the line gradually dropped and slightly fluctuated under 1."
   ]
  },
  {
   "cell_type": "markdown",
   "metadata": {},
   "source": [
    "## Research A Explore Summary"
   ]
  },
  {
   "cell_type": "markdown",
   "metadata": {},
   "source": [
    "##### Question 1. Which year has the most movies released?\n",
    "- We can see that the total number of movies released has increased and the growth rate is rising rapidly over the data duration. The number of movies released in 2014 was the largest, with 700.\n",
    "\n",
    "###### Question 2. Which rating is the most common one?\n",
    "- Most movies have an average score of 5-7, and the number of high and low score movies is extremely low. 6.1 is the most common average score, with 496 movies with this rating.\n",
    "\n",
    "##### Question 3. On average, which year's movies have the highest popularity?\n",
    "- Movies in 1995 got the highest median popularity. From 1960 to 1995, the annual average popularity increased gradually in the midst of strong fluctuations, reaching a peak of more than 0.5 in 1995. After that, this number gradually declined to around 0.4.\n",
    "\n",
    "##### Question 4. On average, which year's movies have the highest revenue?\n",
    "- 1965 was the year with the highest median income. From 1960 to 1970, the median annual income fluctuated strongly and reached its peak in 1965, after which it continued to drop to above 1. After 1980, the line gradually declined, at slightly below 1. The results that the worst year is 2013 and the best year is 1965 is confused me."
   ]
  },
  {
   "cell_type": "markdown",
   "metadata": {},
   "source": [
    "<a id='2'></a>\n",
    "## Research B. Explore Trends"
   ]
  },
  {
   "cell_type": "markdown",
   "metadata": {},
   "source": [
    "In this part of the study, I want to find out that which generations have most successful in three success metrics separately."
   ]
  },
  {
   "cell_type": "markdown",
   "metadata": {},
   "source": [
    "#### * Question 1. Which generation has the most movies released?       \n",
    "#### * Question 2. Which generation‘s movies receive the highest average rating?\n",
    "#### * Question 3. Which generation‘s movies receive the highest popularity?       \n",
    "#### * Question 4. Which generation‘s movies make the highest revenue？\n",
    "####     \n",
    "\n",
    "\n"
   ]
  },
  {
   "cell_type": "markdown",
   "metadata": {},
   "source": [
    "<a id='2-1'></a>\n",
    "## Question 1. Which generation has the most movies released?"
   ]
  },
  {
   "cell_type": "markdown",
   "metadata": {},
   "source": [
    "#### Let's create a new decade column and mark each row as the corresponding generation."
   ]
  },
  {
   "cell_type": "code",
   "execution_count": 46,
   "metadata": {},
   "outputs": [
    {
     "data": {
      "text/html": [
       "<div>\n",
       "<style scoped>\n",
       "    .dataframe tbody tr th:only-of-type {\n",
       "        vertical-align: middle;\n",
       "    }\n",
       "\n",
       "    .dataframe tbody tr th {\n",
       "        vertical-align: top;\n",
       "    }\n",
       "\n",
       "    .dataframe thead th {\n",
       "        text-align: right;\n",
       "    }\n",
       "</style>\n",
       "<table border=\"1\" class=\"dataframe\">\n",
       "  <thead>\n",
       "    <tr style=\"text-align: right;\">\n",
       "      <th></th>\n",
       "      <th>id</th>\n",
       "      <th>popularity</th>\n",
       "      <th>original_title</th>\n",
       "      <th>vote_average</th>\n",
       "      <th>release_year</th>\n",
       "      <th>budget_adj</th>\n",
       "      <th>revenue_adj</th>\n",
       "      <th>decade</th>\n",
       "    </tr>\n",
       "  </thead>\n",
       "  <tbody>\n",
       "    <tr>\n",
       "      <th>10861</th>\n",
       "      <td>21</td>\n",
       "      <td>0.080598</td>\n",
       "      <td>The Endless Summer</td>\n",
       "      <td>7.4</td>\n",
       "      <td>1966</td>\n",
       "      <td>NaN</td>\n",
       "      <td>NaN</td>\n",
       "      <td>1960</td>\n",
       "    </tr>\n",
       "    <tr>\n",
       "      <th>10862</th>\n",
       "      <td>20379</td>\n",
       "      <td>0.065543</td>\n",
       "      <td>Grand Prix</td>\n",
       "      <td>5.7</td>\n",
       "      <td>1966</td>\n",
       "      <td>NaN</td>\n",
       "      <td>NaN</td>\n",
       "      <td>1960</td>\n",
       "    </tr>\n",
       "    <tr>\n",
       "      <th>10863</th>\n",
       "      <td>39768</td>\n",
       "      <td>0.065141</td>\n",
       "      <td>Beregis Avtomobilya</td>\n",
       "      <td>6.5</td>\n",
       "      <td>1966</td>\n",
       "      <td>NaN</td>\n",
       "      <td>NaN</td>\n",
       "      <td>1960</td>\n",
       "    </tr>\n",
       "    <tr>\n",
       "      <th>10864</th>\n",
       "      <td>21449</td>\n",
       "      <td>0.064317</td>\n",
       "      <td>What's Up, Tiger Lily?</td>\n",
       "      <td>5.4</td>\n",
       "      <td>1966</td>\n",
       "      <td>NaN</td>\n",
       "      <td>NaN</td>\n",
       "      <td>1960</td>\n",
       "    </tr>\n",
       "    <tr>\n",
       "      <th>10865</th>\n",
       "      <td>22293</td>\n",
       "      <td>0.035919</td>\n",
       "      <td>Manos: The Hands of Fate</td>\n",
       "      <td>1.5</td>\n",
       "      <td>1966</td>\n",
       "      <td>127642.279154</td>\n",
       "      <td>NaN</td>\n",
       "      <td>1960</td>\n",
       "    </tr>\n",
       "  </tbody>\n",
       "</table>\n",
       "</div>"
      ],
      "text/plain": [
       "          id  popularity            original_title  vote_average  \\\n",
       "10861     21    0.080598        The Endless Summer           7.4   \n",
       "10862  20379    0.065543                Grand Prix           5.7   \n",
       "10863  39768    0.065141       Beregis Avtomobilya           6.5   \n",
       "10864  21449    0.064317    What's Up, Tiger Lily?           5.4   \n",
       "10865  22293    0.035919  Manos: The Hands of Fate           1.5   \n",
       "\n",
       "       release_year     budget_adj  revenue_adj  decade  \n",
       "10861          1966            NaN          NaN    1960  \n",
       "10862          1966            NaN          NaN    1960  \n",
       "10863          1966            NaN          NaN    1960  \n",
       "10864          1966            NaN          NaN    1960  \n",
       "10865          1966  127642.279154          NaN    1960  "
      ]
     },
     "execution_count": 46,
     "metadata": {},
     "output_type": "execute_result"
    }
   ],
   "source": [
    "# Calculate the year into decade and create a new column called decade \n",
    "df['decade']= 10 * (df['release_year'] // 10)\n",
    "# Check new column\n",
    "df.tail()"
   ]
  },
  {
   "cell_type": "markdown",
   "metadata": {},
   "source": [
    "Successfully create a new decade column."
   ]
  },
  {
   "cell_type": "markdown",
   "metadata": {},
   "source": [
    "#### Now, let's find out the number of movies released in different generations and plot a bar chart."
   ]
  },
  {
   "cell_type": "code",
   "execution_count": 47,
   "metadata": {},
   "outputs": [
    {
     "name": "stdout",
     "output_type": "stream",
     "text": [
      "2010    3605\n",
      "2000    3562\n",
      "1990    1765\n",
      "1980    1063\n",
      "1970     508\n",
      "Name: decade, dtype: int64\n"
     ]
    },
    {
     "data": {
      "text/plain": [
       "Text(0,0.5,'Movie Number')"
      ]
     },
     "execution_count": 47,
     "metadata": {},
     "output_type": "execute_result"
    },
    {
     "data": {
      "image/png": "[encoded data removed]",
      "text/plain": [
       "<Figure size 1080x360 with 1 Axes>"
      ]
     },
     "metadata": {},
     "output_type": "display_data"
    }
   ],
   "source": [
    "# Use value_counts function to show the total count in descending order\n",
    "value_counts(df['decade'])\n",
    "# Use value_counts_plot function to plot\n",
    "value_counts_plot(df['decade'])\n",
    "# Set title and labels\n",
    "plt.title('The Number Of Release Movies Based On Generations',fontsize= 20)\n",
    "plt.xlabel('Generations',fontsize= 18);\n",
    "plt.ylabel('Movie Number',fontsize= 18)"
   ]
  },
  {
   "cell_type": "markdown",
   "metadata": {},
   "source": [
    "In the 2010s,  there were the most released movies, with 3,605 movies. Interestingly, there were 3,562 films in the 2000s, very close to 2010. Overall, we can see that, closer to the modern era, there are more movies released."
   ]
  },
  {
   "cell_type": "markdown",
   "metadata": {},
   "source": [
    "<a id='2-2'></a>\n",
    "## Question 2. Which generation‘s movies receive the highest average rating?"
   ]
  },
  {
   "cell_type": "markdown",
   "metadata": {},
   "source": [
    "#### Use the pivot table to create a data frame to plot chart easily afterward."
   ]
  },
  {
   "cell_type": "code",
   "execution_count": 48,
   "metadata": {},
   "outputs": [
    {
     "data": {
      "text/plain": [
       "decade\n",
       "1970    6.4\n",
       "1960    6.3\n",
       "1990    6.1\n",
       "1980    6.1\n",
       "2000    6.0\n",
       "2010    5.9\n",
       "Name: vote_average, dtype: float64"
      ]
     },
     "execution_count": 48,
     "metadata": {},
     "output_type": "execute_result"
    }
   ],
   "source": [
    "# Create piovt table\n",
    "a = df.pivot_table('vote_average', index='decade', aggfunc='median')\n",
    "# Print piovt table in descending order\n",
    "a['vote_average'].sort_values(ascending =False)"
   ]
  },
  {
   "cell_type": "markdown",
   "metadata": {},
   "source": [
    "Movies in the 1960s received the highest average ratings."
   ]
  },
  {
   "cell_type": "markdown",
   "metadata": {},
   "source": [
    "#### Let's plot data into a line chart."
   ]
  },
  {
   "cell_type": "code",
   "execution_count": 49,
   "metadata": {},
   "outputs": [
    {
     "data": {
      "image/png": "[encoded data removed]",
      "text/plain": [
       "<Figure size 1080x360 with 1 Axes>"
      ]
     },
     "metadata": {},
     "output_type": "display_data"
    }
   ],
   "source": [
    "# Set index\n",
    "a_index = a.index\n",
    "# Set style\n",
    "sns.set_style('whitegrid')\n",
    "# Set x, y axis\n",
    "x, y = a_index, a\n",
    "# Set size\n",
    "plt.figure(figsize=(15, 5))\n",
    "# Plot the line chart \n",
    "plt.plot(x, y, color = 'y',alpha= 0.8)\n",
    "# Set labels\n",
    "plt.xlabel('Year',fontsize= 15)\n",
    "plt.ylabel('Median Rating',fontsize= 15);"
   ]
  },
  {
   "cell_type": "markdown",
   "metadata": {},
   "source": [
    "It can be seen that the annual median score in the 1960s was 6.3 and reached a peak of 6.4 in the 1970s. After that, the median score continued to drop to the lowest point of 5.9 in the 2010s"
   ]
  },
  {
   "cell_type": "markdown",
   "metadata": {},
   "source": [
    "<a id='2-3'></a>\n",
    "## Question 3. Which generation‘s movies receive the highest popularity?"
   ]
  },
  {
   "cell_type": "markdown",
   "metadata": {},
   "source": [
    "#### Also, we can use the pivot table on popularity and decade columns."
   ]
  },
  {
   "cell_type": "code",
   "execution_count": 50,
   "metadata": {},
   "outputs": [
    {
     "data": {
      "text/plain": [
       "decade\n",
       "1990    0.420701\n",
       "2000    0.405751\n",
       "2010    0.375458\n",
       "1980    0.351379\n",
       "1970    0.317801\n",
       "1960    0.258688\n",
       "Name: popularity, dtype: float64"
      ]
     },
     "execution_count": 50,
     "metadata": {},
     "output_type": "execute_result"
    }
   ],
   "source": [
    "# Create piovt table\n",
    "a2 = df.pivot_table('popularity', index='decade', aggfunc='median')\n",
    "# Print piovt table in descending way\n",
    "a2['popularity'].sort_values(ascending =False)"
   ]
  },
  {
   "cell_type": "markdown",
   "metadata": {},
   "source": [
    "Movies in the 2010s receive higher median popularity than other generation."
   ]
  },
  {
   "cell_type": "markdown",
   "metadata": {},
   "source": [
    "#### We can plot data to see the changes in median popularity."
   ]
  },
  {
   "cell_type": "code",
   "execution_count": 51,
   "metadata": {},
   "outputs": [
    {
     "data": {
      "image/png": "[encoded data removed]",
      "text/plain": [
       "<Figure size 1080x360 with 1 Axes>"
      ]
     },
     "metadata": {},
     "output_type": "display_data"
    }
   ],
   "source": [
    "# Set index\n",
    "a2_index = a2.index\n",
    "# Set style\n",
    "sns.set_style('whitegrid')\n",
    "# Set x, y axis\n",
    "x, y = a2_index, a2\n",
    "# Set size\n",
    "plt.figure(figsize=(15, 5))\n",
    "# Plot the line chart \n",
    "plt.plot(x, y, color = 'r',alpha= 0.8)\n",
    "# Set labels\n",
    "plt.xlabel('Decade',fontsize= 15)\n",
    "plt.ylabel('Median Popularity',fontsize= 15);"
   ]
  },
  {
   "cell_type": "markdown",
   "metadata": {},
   "source": [
    "From the 1960s, the median popularity has gradually risen and peaked at 0.42 in the 1990s. After the 1980s, it declined to under 0.38 in the 2010s."
   ]
  },
  {
   "cell_type": "markdown",
   "metadata": {},
   "source": [
    "<a id='2-4'></a>\n",
    "## Question 4. Which generation‘s movies make the highest revenue？"
   ]
  },
  {
   "cell_type": "markdown",
   "metadata": {},
   "source": [
    "#### Similarly, use the pivot table to simplify our process."
   ]
  },
  {
   "cell_type": "code",
   "execution_count": 52,
   "metadata": {},
   "outputs": [
    {
     "data": {
      "text/plain": [
       "decade\n",
       "1970    1.218480e+08\n",
       "1960    1.006300e+08\n",
       "1980    4.807889e+07\n",
       "2000    4.619354e+07\n",
       "1990    4.336269e+07\n",
       "2010    2.581710e+07\n",
       "Name: revenue_adj, dtype: float64"
      ]
     },
     "execution_count": 52,
     "metadata": {},
     "output_type": "execute_result"
    }
   ],
   "source": [
    "# Create piovt table\n",
    "a3 = df.pivot_table('revenue_adj', index='decade', aggfunc='median')\n",
    "# Print piovt table in descending way\n",
    "a3['revenue_adj'].sort_values(ascending=False)"
   ]
  },
  {
   "cell_type": "markdown",
   "metadata": {},
   "source": [
    "The 1970s makes the highest median revenue."
   ]
  },
  {
   "cell_type": "markdown",
   "metadata": {},
   "source": [
    "#### Let's Plot a line chart to take a look at the changes in revenue."
   ]
  },
  {
   "cell_type": "code",
   "execution_count": 53,
   "metadata": {},
   "outputs": [
    {
     "data": {
      "image/png": "[encoded data removed]",
      "text/plain": [
       "<Figure size 1080x360 with 1 Axes>"
      ]
     },
     "metadata": {},
     "output_type": "display_data"
    }
   ],
   "source": [
    "# Set index\n",
    "a3_index = a3.index\n",
    "# Set style\n",
    "sns.set_style('whitegrid')\n",
    "# Set x, y axis\n",
    "x, y = a3_index, a3\n",
    "# Set size\n",
    "plt.figure(figsize=(15, 5))\n",
    "# Plot the line chart \n",
    "plt.plot(x, y, color = 'g',alpha= 0.8)\n",
    "# Set labels\n",
    "plt.xlabel('Decade',fontsize= 15)\n",
    "plt.ylabel('Median Revenue',fontsize= 15);"
   ]
  },
  {
   "cell_type": "markdown",
   "metadata": {},
   "source": [
    "We can see that the median box office in the 1970s was the highest at about 1.3. After that, the line declined sharply to around 0.6 in the 1980s and continued fluctuated around the value until dropped to about 0.5 in the 2010s."
   ]
  },
  {
   "cell_type": "markdown",
   "metadata": {},
   "source": [
    "## Research B Explore Summary"
   ]
  },
  {
   "cell_type": "markdown",
   "metadata": {},
   "source": [
    "##### Question 1. Which generation has the most movies released?       \n",
    "- In the 2010s, there were the most released movies, with 3,605 movies. Interestingly, there were 3,562 films in the 2000s, very close to the 2010s. Overall, we can see that, closer to the modern era, there are more movies released.\n",
    "\n",
    "##### Question 2. Which generation‘s movies receive the highest average rating?\n",
    "- Movies in the 1960s received the highest average ratings. It can be seen that the annual median score in the 1960s was 6.3 and reached a peak of 6.4 in the 1970s. After that, the median score continued to drop to the lowest point of 5.9 in the 2010s.\n",
    "\n",
    "##### Question 3. Which generation‘s movies receive the highest popularity?   \n",
    "- Movies in the 2010s receive higher median popularity than other generation. From the 1960s, the median popularity has gradually risen and peaked at 0.42 in the 1990s. After the 1980s, it declined to under 0.38 in the 2010s.\n",
    "\n",
    "##### Question 4. Which generation‘s movies make the highest revenue？\n",
    "- The 1970s makes the highest median revenue. We can see that the median box office in the 1970s was the highest at about 1.3. After that, the line declined sharply to around 0.6 in the 1980s and continued fluctuated around the value until dropped to about 0.5 in the 2010s."
   ]
  },
  {
   "cell_type": "markdown",
   "metadata": {},
   "source": [
    "<a id='3'></a>\n",
    "## Research C: Relationships Between Success Metrics"
   ]
  },
  {
   "cell_type": "markdown",
   "metadata": {},
   "source": [
    "#### * Question 1. Are high revenue movies also receive high popularity?\n",
    "\n",
    "#### * Question 2. Are high rating movies also perform better in revenue?\n",
    "\n",
    "#### * Question 3. Do popular movies also have better average ratings?\n",
    "\n",
    "\n",
    "####      "
   ]
  },
  {
   "cell_type": "markdown",
   "metadata": {},
   "source": [
    "In Research C, we will use the scatter plot to exolore their correlation. In addition, Using Pearson correlation to figure out the relationships between these variables."
   ]
  },
  {
   "cell_type": "markdown",
   "metadata": {},
   "source": [
    "<a id='3-1'></a>\n",
    "## Question 1. Are high revenue movies also receive high popularity?"
   ]
  },
  {
   "cell_type": "code",
   "execution_count": 54,
   "metadata": {},
   "outputs": [
    {
     "data": {
      "image/png": "[encoded data removed]",
      "text/plain": [
       "<Figure size 432x288 with 1 Axes>"
      ]
     },
     "metadata": {},
     "output_type": "display_data"
    }
   ],
   "source": [
    "# Set x and y\n",
    "x = df['revenue_adj']\n",
    "y = df['popularity']\n",
    "fig = plt.figure()\n",
    "ax1 = fig.add_subplot(111)\n",
    "#  Set title\n",
    "ax1.set_title('Scatter Plot',fontsize=15)\n",
    "#  Set x label\n",
    "plt.xlabel('revenue_adj',fontsize=15)\n",
    "#  Set y label\n",
    "plt.ylabel('popularity',fontsize=15)\n",
    "# Plot scatter plot\n",
    "plt.scatter(x, y, alpha=0.2,c='purple')  \n",
    "plt.show()"
   ]
  },
  {
   "cell_type": "markdown",
   "metadata": {},
   "source": [
    "#### Let's using .corr()  to compute pairwise pearson correlation of columns, excluding NA/null values."
   ]
  },
  {
   "cell_type": "code",
   "execution_count": 55,
   "metadata": {},
   "outputs": [
    {
     "name": "stdout",
     "output_type": "stream",
     "text": [
      "             revenue_adj  popularity\n",
      "revenue_adj     1.000000    0.561746\n",
      "popularity      0.561746    1.000000\n"
     ]
    }
   ],
   "source": [
    "# Compute Pearson correlation coefficient\n",
    "print(df[['revenue_adj', 'popularity']].corr(method='pearson'))"
   ]
  },
  {
   "cell_type": "markdown",
   "metadata": {},
   "source": [
    ">According to the [wikipedia page relating to the Pearson correlation coefficient,](https://en.wikipedia.org/wiki/Pearson_correlation_coefficient) several authors have offered guidelines for the interpretation of a correlation coefficient. However, all such criteria are in some ways arbitrary. The interpretation of a correlation coefficient depends on the context and purposes. A correlation of 0.8 may be very low if one is verifying a physical law using high-quality instruments, but may be regarded as very high in the social sciences where there may be a greater contribution from complicating factors. Since I lack relative information about these metrics in the film industry, I would determine the degree of correlation according to a general standard as the table below show."
   ]
  },
  {
   "cell_type": "markdown",
   "metadata": {},
   "source": [
    "##### General Standard of the Pearson Correlation Coefficient\n",
    " \n",
    "| Correlation\t | Negative\t     |Positive|\n",
    "|:---------------|------------:  |:------:|\n",
    "| None\t         |−0.09 to 0.0\t |0.0 to 0.09\n",
    "| Weak\t         |−0.3 to −0.1\t |0.1 to 0.3\n",
    "| Moderate\t     |−0.5 to −0.3\t |0.3 to 0.5\n",
    "| Strong\t     |−1.0 to −0.5   |0.5 to 1.0\n",
    "\n"
   ]
  },
  {
   "cell_type": "markdown",
   "metadata": {},
   "source": [
    "Here we see a strong positive correlation between revenue_adj and popularity."
   ]
  },
  {
   "cell_type": "markdown",
   "metadata": {},
   "source": [
    "<a id='3-2'></a>\n",
    "## Question 2. Are high rating movies also perform better in revenue?"
   ]
  },
  {
   "cell_type": "code",
   "execution_count": 56,
   "metadata": {},
   "outputs": [
    {
     "data": {
      "image/png": "[encoded data removed]",
      "text/plain": [
       "<Figure size 432x288 with 1 Axes>"
      ]
     },
     "metadata": {},
     "output_type": "display_data"
    }
   ],
   "source": [
    "# Set x and y\n",
    "x = df['vote_average']\n",
    "y = df['revenue_adj']\n",
    "fig = plt.figure()\n",
    "ax1 = fig.add_subplot(111)\n",
    "# Set title\n",
    "ax1.set_title('Scatter Plot',fontsize=15)\n",
    "# Set x axislabel\n",
    "plt.xlabel('vote_average',fontsize=15)\n",
    "# Set y label\n",
    "plt.ylabel('revenue_adj',fontsize=15)\n",
    "# Plot scatter plot\n",
    "plt.scatter(x, y, alpha=0.2,c = 'steelblue')  \n",
    "plt.show()"
   ]
  },
  {
   "cell_type": "markdown",
   "metadata": {},
   "source": [
    "#### Caculate Pearson correlation."
   ]
  },
  {
   "cell_type": "code",
   "execution_count": 57,
   "metadata": {},
   "outputs": [
    {
     "name": "stdout",
     "output_type": "stream",
     "text": [
      "              vote_average  revenue_adj\n",
      "vote_average      1.000000     0.242319\n",
      "revenue_adj       0.242319     1.000000\n"
     ]
    }
   ],
   "source": [
    "# Compute Pearson correlation coefficient\n",
    "print(df[['vote_average', 'revenue_adj']].corr(method='pearson'))"
   ]
  },
  {
   "cell_type": "markdown",
   "metadata": {},
   "source": [
    "##### General Standard of the Pearson Correlation Coefficient\n",
    " \n",
    "| Correlation\t | Negative\t     |Positive|\n",
    "|:---------------|------------:  |:------:|\n",
    "| None\t         |−0.09 to 0.0\t |0.0 to 0.09\n",
    "| Weak\t         |−0.3 to −0.1\t |0.1 to 0.3\n",
    "| Moderate\t     |−0.5 to −0.3\t |0.3 to 0.5\n",
    "| Strong\t     |−1.0 to −0.5   |0.5 to 1.0\n",
    "\n"
   ]
  },
  {
   "cell_type": "markdown",
   "metadata": {},
   "source": [
    "Here we see a weak positive correlation between vote_average and revenue_adj."
   ]
  },
  {
   "cell_type": "markdown",
   "metadata": {},
   "source": [
    "<a id='3-3'></a>\n",
    "## Question 3. Do popular movies also have better average ratings?"
   ]
  },
  {
   "cell_type": "code",
   "execution_count": 58,
   "metadata": {},
   "outputs": [
    {
     "data": {
      "image/png": "[encoded data removed]",
      "text/plain": [
       "<Figure size 432x288 with 1 Axes>"
      ]
     },
     "metadata": {},
     "output_type": "display_data"
    }
   ],
   "source": [
    "# Set x and y\n",
    "x = df['popularity']\n",
    "y = df['vote_average']\n",
    "fig = plt.figure()\n",
    "ax1 = fig.add_subplot(111)\n",
    "# Set title\n",
    "ax1.set_title('Scatter Plot',fontsize=15)\n",
    "# Set x label\n",
    "plt.xlabel('popularity',fontsize=15)\n",
    "# Set y label\n",
    "plt.ylabel('vote_average',fontsize=15)\n",
    "# Plot scatter plot\n",
    "plt.scatter(x, y, alpha=0.2,c= 'brown')  \n",
    "plt.show()"
   ]
  },
  {
   "cell_type": "markdown",
   "metadata": {},
   "source": [
    "There is no significant correlation between revenue_adj and vote_average."
   ]
  },
  {
   "cell_type": "markdown",
   "metadata": {},
   "source": [
    "#### Calculate the Pearson correlation coefficient of these variables as in the previous steps."
   ]
  },
  {
   "cell_type": "code",
   "execution_count": 59,
   "metadata": {},
   "outputs": [
    {
     "name": "stdout",
     "output_type": "stream",
     "text": [
      "              vote_average  popularity\n",
      "vote_average      1.000000    0.209517\n",
      "popularity        0.209517    1.000000\n"
     ]
    }
   ],
   "source": [
    "# Compute Pearson correlation coefficient\n",
    "print(df[['vote_average', 'popularity']].corr(method='pearson'))"
   ]
  },
  {
   "cell_type": "markdown",
   "metadata": {},
   "source": [
    "##### General Standard of the Pearson Correlation Coefficient\n",
    " \n",
    "| Correlation\t | Negative\t     |Positive|\n",
    "|:---------------|------------:  |:------:|\n",
    "| None\t         |−0.09 to 0.0\t |0.0 to 0.09\n",
    "| Weak\t         |−0.3 to −0.1\t |0.1 to 0.3\n",
    "| Moderate\t     |−0.5 to −0.3\t |0.3 to 0.5\n",
    "| Strong\t     |−1.0 to −0.5   |0.5 to 1.0\n",
    "\n"
   ]
  },
  {
   "cell_type": "markdown",
   "metadata": {},
   "source": [
    "Here we see a weak positive correlation between vote_average and popularity"
   ]
  },
  {
   "cell_type": "markdown",
   "metadata": {},
   "source": [
    "## Research C Explore Summary"
   ]
  },
  {
   "cell_type": "markdown",
   "metadata": {},
   "source": [
    "##### Question 1. Are high revenue movies also receive high popularity?\n",
    "- There is a strong positive correlation between revenue_adj and popularity. (0.561746)\n",
    "\n",
    "##### Question 2. Are high rating movies also perform better in revenue?\n",
    "- There is a weak positive correlation between vote_average and revenue_adj. (0.242319)\n",
    "\n",
    "##### Question 3. Do popular movies also have better average ratings?\n",
    "- There is weak positive correlation between popularity and vote_average. (0.209517)"
   ]
  },
  {
   "cell_type": "markdown",
   "metadata": {},
   "source": [
    "<a id='conclusions'></a>\n",
    "## Conclusions"
   ]
  },
  {
   "cell_type": "markdown",
   "metadata": {},
   "source": [
    "I divide this research into three parts:\n",
    "\n",
    "### Part A: Basic Facts\n",
    "\n",
    "In this part, I explored some basic questions. The result turned out that the total number of movies circulation and the growth rate has increased significantly over the data duration, in which 2014 was the most high-production year. In addition, I found that 6.1 is the most common average score. Most movies have an average score of 5-7, and the number of high and low score movies is extremely low. Besides, Movies in 1995 got the highest median popularity. Moreover, 1965 was the year with the highest median income. \n",
    "\n",
    "\n",
    "### Part B: Explore Trends\n",
    "\n",
    "In this part, I explored the decade trend of success metrics and find out the generation that performs best in these metrics. The result turned out that closer to the modern era, there are more movies released. In the 2010s, there were the most released movies. Interestingly, the number of the 2000s is very close to those of the 2010s. Besides, movies in the 1960s received the highest average ratings. The annual median score in the 1960s was 6.3 and reached a peak of 6.4 in the 1970s. After that, the median score continued to drop to the lowest point of 5.9 in the 2010s. Moreover, movies in the 2010s receive higher median popularity than other generation. From the 1960s, the median popularity has gradually risen and peaked at 0.42 in the 1990s. After the 1980s, it declined to under 0.38 in the 2010s. In addition, the 1970s makes the highest median revenue. After that, the line declined sharply to around 0.6 in the 1980s and continued fluctuated around the value until dropped to about 0.5 in the 2010s.\n",
    "\n",
    "### Part C: Relationships Between Success Metrisc\n",
    "\n",
    "In this part, I explored the relationships between success metrics. The result turned out that there is a strong positive correlation between revenue_adj and popularity. Besides, the weak positive correlation both be found in vote_average/revenue_adj and vote_average/popularity.\n",
    "\n",
    "In conclusion, I find some interesting result during the analysis, but there are still some limitations to my investigation."
   ]
  },
  {
   "cell_type": "markdown",
   "metadata": {},
   "source": [
    "### Limitation\n",
    "\n",
    "1. Success metrics definition: Although I have chosen three generally accepted indicators for measuring film success, I have not clearly defined the boundaries of the measurement criteria, which means high, medium, and low numerical boundaries of popularity, revenue, and ratings.\n",
    "\n",
    "2. Data quality: In order to preserve the revenue adj data, I replaced a lot of zeros with null values in the revenu adj column, but it seems to cause unreasonable statistical results. \n",
    "\n",
    "3. Outliers: I did not think enough about data wrangling process, and there are still many extreme values that haven't been processed yet, which can affect the results. In addition, I chose to analyze the average rating but did not consider the vote_count column that could lead to bias. If there are movies that have small vote counts with high scores, the result would be less accurate.\n",
    "\n",
    "4. In Research C, I should first define better/high revenue, better/higher average ratings, and high popularity/popular movie standards."
   ]
  },
  {
   "cell_type": "markdown",
   "metadata": {},
   "source": [
    "### Reference"
   ]
  },
  {
   "cell_type": "markdown",
   "metadata": {},
   "source": [
    "### 1. A method to segment years into generations.\n",
    "\n",
    "[Reference to the method of segmentation into generations](https://cblog.csdn.net/qq_33361618/article/details/82788477)"
   ]
  },
  {
   "cell_type": "markdown",
   "metadata": {},
   "source": [
    "#### #Used code\n",
    "df['decade']= 10 * (df['release_year'] // 10)"
   ]
  },
  {
   "cell_type": "markdown",
   "metadata": {},
   "source": [
    "### 2. I learn a lot in this bolg."
   ]
  },
  {
   "cell_type": "markdown",
   "metadata": {},
   "source": [
    "[01. Investigate TMDb Movie Dataset (Python Data Analysis Project) — Part 1 Data Wrangling](https://medium.com/@onpillow/01-investigate-tmdb-movie-dataset-python-data-analysis-project-part-1-data-wrangling-3d2b55ea7714)"
   ]
  },
  {
   "cell_type": "markdown",
   "metadata": {},
   "source": [
    "### 3. Documentation of Matplotlib"
   ]
  },
  {
   "cell_type": "markdown",
   "metadata": {},
   "source": [
    "https://matplotlib.org/ \n",
    "\n",
    "https://matplotlib.org/api/_as_gen/matplotlib.pyplot.scatter.html"
   ]
  },
  {
   "cell_type": "markdown",
   "metadata": {},
   "source": [
    "### 4. Documentation of Seaborn"
   ]
  },
  {
   "cell_type": "markdown",
   "metadata": {},
   "source": [
    "https://seaborn.pydata.org/generated/seaborn.set_style.html"
   ]
  },
  {
   "cell_type": "markdown",
   "metadata": {},
   "source": [
    "### 5. A Resource of teaching Matplotlib"
   ]
  },
  {
   "cell_type": "markdown",
   "metadata": {},
   "source": [
    "https://morvanzhou.github.io/tutorials/data-manipulation/plt/"
   ]
  },
  {
   "cell_type": "markdown",
   "metadata": {},
   "source": [
    "### 6. Instructions of using jupyter notebook markdown cell and shortcuts"
   ]
  },
  {
   "cell_type": "markdown",
   "metadata": {},
   "source": [
    "https://www.cnblogs.com/giserliu/p/4997144.html"
   ]
  },
  {
   "cell_type": "markdown",
   "metadata": {},
   "source": [
    "### 7. Data Cleaning （Handling missing data）"
   ]
  },
  {
   "cell_type": "markdown",
   "metadata": {},
   "source": [
    "https://www.cnblogs.com/xiaohuahua108/p/6237906.html"
   ]
  },
  {
   "cell_type": "markdown",
   "metadata": {},
   "source": [
    "### 8. Learn functions "
   ]
  },
  {
   "cell_type": "markdown",
   "metadata": {},
   "source": [
    "https://www.learnpython.org/en/Functions\n",
    "    \n",
    "https://stackoverflow.com/questions/40759649/dataframe-object-is-not-callable-the-function"
   ]
  },
  {
   "cell_type": "markdown",
   "metadata": {},
   "source": [
    "### 9. Plotting pivot tables"
   ]
  },
  {
   "cell_type": "markdown",
   "metadata": {},
   "source": [
    "https://stackoverflow.com/questions/42406186/plotting-pivot-tables-in-python"
   ]
  },
  {
   "cell_type": "markdown",
   "metadata": {},
   "source": [
    "### 10. The Pearson correlation coefficient"
   ]
  },
  {
   "cell_type": "markdown",
   "metadata": {},
   "source": [
    "https://en.wikipedia.org/wiki/Pearson_correlation_coefficient\n",
    "\n",
    "https://www.statisticssolutions.com/pearsons-correlation-coefficient/"
   ]
  }
 ],
 "metadata": {
  "kernelspec": {
   "display_name": "Python [conda env:anaconda2]",
   "language": "python",
   "name": "conda-env-anaconda2-py"
  },
  "language_info": {
   "codemirror_mode": {
    "name": "ipython",
    "version": 2
   },
   "file_extension": ".py",
   "mimetype": "text/x-python",
   "name": "python",
   "nbconvert_exporter": "python",
   "pygments_lexer": "ipython2",
   "version": "2.7.15"
  }
 },
 "nbformat": 4,
 "nbformat_minor": 2
}
